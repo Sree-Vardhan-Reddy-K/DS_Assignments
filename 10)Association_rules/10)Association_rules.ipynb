{
 "cells": [
  {
   "cell_type": "markdown",
   "id": "6f995153",
   "metadata": {},
   "source": [
    "## Association Rules"
   ]
  },
  {
   "cell_type": "code",
   "execution_count": 20,
   "id": "1dad00c4",
   "metadata": {},
   "outputs": [],
   "source": [
    "#Data Preprocessing for Market Basket Analysis\n",
    "import pandas as pd\n",
    "from mlxtend.preprocessing import TransactionEncoder\n",
    "from mlxtend.frequent_patterns import apriori, association_rules"
   ]
  },
  {
   "cell_type": "code",
   "execution_count": 21,
   "id": "71dbc0ca",
   "metadata": {},
   "outputs": [],
   "source": [
    "#Load dataset\n",
    "file_path=\"Online retail.xlsx\"\n",
    "df=pd.read_excel(file_path,header=None)"
   ]
  },
  {
   "cell_type": "code",
   "execution_count": 22,
   "id": "0e73ebfa",
   "metadata": {},
   "outputs": [
    {
     "name": "stdout",
     "output_type": "stream",
     "text": [
      "Initial shape: (7501, 1)\n",
      "<class 'pandas.core.frame.DataFrame'>\n",
      "RangeIndex: 7501 entries, 0 to 7500\n",
      "Data columns (total 1 columns):\n",
      " #   Column  Non-Null Count  Dtype \n",
      "---  ------  --------------  ----- \n",
      " 0   0       7501 non-null   object\n",
      "dtypes: object(1)\n",
      "memory usage: 58.7+ KB\n",
      "None\n"
     ]
    }
   ],
   "source": [
    "print(\"Initial shape:\",df.shape)\n",
    "print(df.info())"
   ]
  },
  {
   "cell_type": "code",
   "execution_count": 23,
   "id": "71ec36be",
   "metadata": {},
   "outputs": [
    {
     "name": "stdout",
     "output_type": "stream",
     "text": [
      "First 5 transactions:\n",
      "0    [shrimp, almonds, avocado, vegetables mix, gre...\n",
      "1                           [burgers, meatballs, eggs]\n",
      "2                                            [chutney]\n",
      "3                                    [turkey, avocado]\n",
      "4    [mineral water, milk, energy bar, whole wheat ...\n",
      "Name: Items, dtype: object\n"
     ]
    }
   ],
   "source": [
    "#Rename column for clarity\n",
    "df.columns=[\"Items\"]\n",
    "\n",
    "#Drop empty rows (if any)\n",
    "df=df.dropna()\n",
    "\n",
    "#Split the string of items into Python lists\n",
    "transactions=df[\"Items\"].apply(lambda x: [i.strip().lower() for i in str(x).split(\",\")])\n",
    "\n",
    "#Preview first 5 transactions\n",
    "print(\"First 5 transactions:\")\n",
    "print(transactions.head())"
   ]
  },
  {
   "cell_type": "code",
   "execution_count": 24,
   "id": "6c788f70",
   "metadata": {},
   "outputs": [
    {
     "name": "stdout",
     "output_type": "stream",
     "text": [
      "Basket shape: (7501, 119)\n",
      "   almonds  antioxydant juice  asparagus  avocado  babies food  bacon  \\\n",
      "0     True               True      False     True        False  False   \n",
      "1    False              False      False    False        False  False   \n",
      "2    False              False      False    False        False  False   \n",
      "3    False              False      False     True        False  False   \n",
      "4    False              False      False    False        False  False   \n",
      "\n",
      "   barbecue sauce  black tea  blueberries  body spray  ...  turkey  \\\n",
      "0           False      False        False       False  ...   False   \n",
      "1           False      False        False       False  ...   False   \n",
      "2           False      False        False       False  ...   False   \n",
      "3           False      False        False       False  ...    True   \n",
      "4           False      False        False       False  ...   False   \n",
      "\n",
      "   vegetables mix  water spray  white wine  whole weat flour  \\\n",
      "0            True        False       False              True   \n",
      "1           False        False       False             False   \n",
      "2           False        False       False             False   \n",
      "3           False        False       False             False   \n",
      "4           False        False       False             False   \n",
      "\n",
      "   whole wheat pasta  whole wheat rice   yams  yogurt cake  zucchini  \n",
      "0              False             False   True        False     False  \n",
      "1              False             False  False        False     False  \n",
      "2              False             False  False        False     False  \n",
      "3              False             False  False        False     False  \n",
      "4              False              True  False        False     False  \n",
      "\n",
      "[5 rows x 119 columns]\n"
     ]
    }
   ],
   "source": [
    "#1. Transform transaction list into one-hot encoded DataFrame\n",
    "te=TransactionEncoder()\n",
    "te_array=te.fit(transactions).transform(transactions)\n",
    "basket=pd.DataFrame(te_array,columns=te.columns_)\n",
    "\n",
    "print(\"Basket shape:\", basket.shape)\n",
    "print(basket.head())"
   ]
  },
  {
   "cell_type": "code",
   "execution_count": 25,
   "id": "173c7cf2",
   "metadata": {},
   "outputs": [
    {
     "name": "stdout",
     "output_type": "stream",
     "text": [
      "\n",
      "Frequent itemsets:\n",
      "     support             itemsets\n",
      "46  0.238368      (mineral water)\n",
      "19  0.179709               (eggs)\n",
      "63  0.174110          (spaghetti)\n",
      "24  0.170911       (french fries)\n",
      "13  0.163845          (chocolate)\n",
      "32  0.132116          (green tea)\n",
      "45  0.129583               (milk)\n",
      "33  0.098254        (ground beef)\n",
      "30  0.095321  (frozen vegetables)\n",
      "53  0.095054           (pancakes)\n"
     ]
    }
   ],
   "source": [
    "#2.Apply Apriori algorithm (minimum support = 0.01 → 1%)\n",
    "frequent_itemsets=apriori(basket,min_support=0.01,use_colnames=True)\n",
    "\n",
    "print(\"\\nFrequent itemsets:\")\n",
    "print(frequent_itemsets.sort_values(\"support\",ascending=False).head(10))"
   ]
  },
  {
   "cell_type": "code",
   "execution_count": 26,
   "id": "027783de",
   "metadata": {},
   "outputs": [
    {
     "name": "stdout",
     "output_type": "stream",
     "text": [
      "       antecedents      consequents   support  confidence      lift\n",
      "0        (avocado)  (mineral water)  0.011598    0.348000  1.459926\n",
      "5        (burgers)           (eggs)  0.028796    0.330275  1.837830\n",
      "32          (cake)  (mineral water)  0.027463    0.338816  1.421397\n",
      "39       (cereals)  (mineral water)  0.010265    0.398964  1.673729\n",
      "50       (chicken)  (mineral water)  0.022797    0.380000  1.594172\n",
      "70     (chocolate)  (mineral water)  0.052660    0.321400  1.348332\n",
      "92   (cooking oil)  (mineral water)  0.020131    0.394256  1.653978\n",
      "94   (cooking oil)      (spaghetti)  0.015865    0.310705  1.784531\n",
      "107       (turkey)           (eggs)  0.019464    0.311301  1.732245\n",
      "116  (fresh bread)  (mineral water)  0.013332    0.309598  1.298820\n"
     ]
    }
   ],
   "source": [
    "#3. Generate association rules (confidence >= 0.3, lift >= 1.2)\n",
    "rules=association_rules(frequent_itemsets,metric=\"lift\",min_threshold=1.2)\n",
    "rules=rules[(rules[\"confidence\"]>=0.3)&(rules[\"lift\"]>=1.2)]\n",
    "print(rules[[\"antecedents\",\"consequents\",\"support\",\"confidence\",\"lift\"]].head(10))"
   ]
  },
  {
   "cell_type": "code",
   "execution_count": null,
   "id": "64dd829b",
   "metadata": {},
   "outputs": [],
   "source": []
  },
  {
   "cell_type": "markdown",
   "id": "d9e7e430",
   "metadata": {},
   "source": [
    "## Task 3: Analysis and Interpretation\n",
    "\n",
    "### Key Metrics\n",
    "- **Support**  \n",
    "  - Indicates how frequently an itemset appears in transactions.  \n",
    "  - Example: `{milk, bread}` with support = 0.08 → appears in 8% of all baskets.  \n",
    "\n",
    "- **Confidence**  \n",
    "  - Shows the likelihood of buying the consequent when the antecedent is bought.  \n",
    "  - Example: `{eggs} → {bread}` with confidence = 0.6 → whenever eggs are bought, 60% of the time bread is also purchased.  \n",
    "\n",
    "- **Lift**  \n",
    "  - Evaluates the strength of a rule compared to random chance.  \n",
    "  - Lift > 1 → strong positive association.  \n",
    "  - Lift ≈ 1 → weak/neutral relationship.  \n",
    "  - Lift < 1 → negative relationship.  \n",
    "\n",
    "### Example Insights (Hypothetical)\n",
    "- `{mineral water} -> {spaghetti}`  \n",
    "  - Lift = 2.1, Confidence = 0.45  \n",
    "  - Customers buying mineral water are **twice as likely** to also buy spaghetti.  \n",
    "\n",
    "- `{eggs, milk} -> {bread}`  \n",
    "  - Support = 0.06  \n",
    "  - Classic grocery basket: eggs + milk + bread often appear together.  \n",
    "\n",
    "- `{frozen smoothie} -> {green tea}`  \n",
    "  - Confidence = 0.38, Lift = 1.5  \n",
    "  - Indicates a **healthy lifestyle** purchasing trend.  \n",
    "\n",
    "### Business Interpretation\n",
    "- **Product Bundling** → Promote high-lift pairs together (for example, milk + bread).  \n",
    "- **Cross-Selling** → Suggest related items during checkout (for example, eggs -> bread).  \n",
    "- **Inventory Planning** → Frequently paired items should be stocked together.  \n",
    "- **Customer Segmentation** → Healthy vs indulgent buyers can be identified and targeted differently.  \n"
   ]
  },
  {
   "cell_type": "markdown",
   "id": "e5e30447",
   "metadata": {},
   "source": [
    "### Interview Questions\n",
    "\n",
    "##### 1. What is Lift and why is it important in Association Rules?\n",
    "- **Lift** tells us how much more likely two items are bought together compared to them being bought independently.  \n",
    "- If **Lift > 1** → items are positively related.  \n",
    "- If **Lift = 1** → no special relationship (just by chance).  \n",
    "- If **Lift < 1** → items are negatively related.  \n",
    "* It’s important because it shows if a rule is truly useful or just a coincidence.  \n",
    "\n",
    "##### 2. What is Support and Confidence? How do you calculate them?\n",
    "- **Support**: How often an item or rule appears in the dataset.  \n",
    "  - Formula:  \n",
    "    Support(A->B)=(Transactions containing A and B) / (Total transactions) \n",
    "\n",
    "- **Confidence**: How often B is bought when A is bought.  \n",
    "  - Formula:  \n",
    "    Confidence(A->B) =(Transactions containing A and B)(Transactions containing A)\n",
    "\n",
    "* Example: If 100 people bought bread, and 60 of them also bought butter:  \n",
    "- Support(bread->butter) = 60 / Total transactions  \n",
    "- Confidence(bread->butter) = 60 / 100 = 0.6 (60%)  \n",
    "\n",
    "\n",
    "##### 3. What are some limitations or challenges of Association Rules Mining?\n",
    "- **Too many rules**: Generates thousands of rules, hard to filter useful ones.  \n",
    "- **Uninteresting rules**: High support but no real business meaning.  \n",
    "- **Rare item problem**: Rare but important items may get ignored.  \n",
    "- **Computationally expensive**: Takes lots of time and memory for big datasets.  \n",
    "- **No causation**: Shows patterns, but doesn’t mean one item causes the other.  \n"
   ]
  },
  {
   "cell_type": "markdown",
   "id": "df6929b9",
   "metadata": {},
   "source": []
  }
 ],
 "metadata": {
  "kernelspec": {
   "display_name": "Python 3",
   "language": "python",
   "name": "python3"
  },
  "language_info": {
   "codemirror_mode": {
    "name": "ipython",
    "version": 3
   },
   "file_extension": ".py",
   "mimetype": "text/x-python",
   "name": "python",
   "nbconvert_exporter": "python",
   "pygments_lexer": "ipython3",
   "version": "3.12.0"
  }
 },
 "nbformat": 4,
 "nbformat_minor": 5
}
