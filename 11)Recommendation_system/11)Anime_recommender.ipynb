{
 "cells": [
  {
   "cell_type": "markdown",
   "id": "e5a7513b",
   "metadata": {},
   "source": [
    "## Recommendation System "
   ]
  },
  {
   "cell_type": "code",
   "execution_count": 1,
   "id": "12d9a665",
   "metadata": {},
   "outputs": [
    {
     "data": {
      "text/plain": [
       "(12294, 7)"
      ]
     },
     "execution_count": 1,
     "metadata": {},
     "output_type": "execute_result"
    }
   ],
   "source": [
    "#Load libraries and dataset\n",
    "import pandas as pd\n",
    "import numpy as np\n",
    "\n",
    "df=pd.read_csv(\"anime.csv\")\n",
    "df.shape"
   ]
  },
  {
   "cell_type": "code",
   "execution_count": 2,
   "id": "4a4c2d2e",
   "metadata": {},
   "outputs": [
    {
     "data": {
      "text/html": [
       "<div>\n",
       "<style scoped>\n",
       "    .dataframe tbody tr th:only-of-type {\n",
       "        vertical-align: middle;\n",
       "    }\n",
       "\n",
       "    .dataframe tbody tr th {\n",
       "        vertical-align: top;\n",
       "    }\n",
       "\n",
       "    .dataframe thead th {\n",
       "        text-align: right;\n",
       "    }\n",
       "</style>\n",
       "<table border=\"1\" class=\"dataframe\">\n",
       "  <thead>\n",
       "    <tr style=\"text-align: right;\">\n",
       "      <th></th>\n",
       "      <th>anime_id</th>\n",
       "      <th>name</th>\n",
       "      <th>genre</th>\n",
       "      <th>type</th>\n",
       "      <th>episodes</th>\n",
       "      <th>rating</th>\n",
       "      <th>members</th>\n",
       "    </tr>\n",
       "  </thead>\n",
       "  <tbody>\n",
       "    <tr>\n",
       "      <th>0</th>\n",
       "      <td>32281</td>\n",
       "      <td>Kimi no Na wa.</td>\n",
       "      <td>Drama, Romance, School, Supernatural</td>\n",
       "      <td>Movie</td>\n",
       "      <td>1</td>\n",
       "      <td>9.37</td>\n",
       "      <td>200630</td>\n",
       "    </tr>\n",
       "    <tr>\n",
       "      <th>1</th>\n",
       "      <td>5114</td>\n",
       "      <td>Fullmetal Alchemist: Brotherhood</td>\n",
       "      <td>Action, Adventure, Drama, Fantasy, Magic, Mili...</td>\n",
       "      <td>TV</td>\n",
       "      <td>64</td>\n",
       "      <td>9.26</td>\n",
       "      <td>793665</td>\n",
       "    </tr>\n",
       "    <tr>\n",
       "      <th>2</th>\n",
       "      <td>28977</td>\n",
       "      <td>Gintama°</td>\n",
       "      <td>Action, Comedy, Historical, Parody, Samurai, S...</td>\n",
       "      <td>TV</td>\n",
       "      <td>51</td>\n",
       "      <td>9.25</td>\n",
       "      <td>114262</td>\n",
       "    </tr>\n",
       "    <tr>\n",
       "      <th>3</th>\n",
       "      <td>9253</td>\n",
       "      <td>Steins;Gate</td>\n",
       "      <td>Sci-Fi, Thriller</td>\n",
       "      <td>TV</td>\n",
       "      <td>24</td>\n",
       "      <td>9.17</td>\n",
       "      <td>673572</td>\n",
       "    </tr>\n",
       "    <tr>\n",
       "      <th>4</th>\n",
       "      <td>9969</td>\n",
       "      <td>Gintama&amp;#039;</td>\n",
       "      <td>Action, Comedy, Historical, Parody, Samurai, S...</td>\n",
       "      <td>TV</td>\n",
       "      <td>51</td>\n",
       "      <td>9.16</td>\n",
       "      <td>151266</td>\n",
       "    </tr>\n",
       "  </tbody>\n",
       "</table>\n",
       "</div>"
      ],
      "text/plain": [
       "   anime_id                              name  \\\n",
       "0     32281                    Kimi no Na wa.   \n",
       "1      5114  Fullmetal Alchemist: Brotherhood   \n",
       "2     28977                          Gintama°   \n",
       "3      9253                       Steins;Gate   \n",
       "4      9969                     Gintama&#039;   \n",
       "\n",
       "                                               genre   type episodes  rating  \\\n",
       "0               Drama, Romance, School, Supernatural  Movie        1    9.37   \n",
       "1  Action, Adventure, Drama, Fantasy, Magic, Mili...     TV       64    9.26   \n",
       "2  Action, Comedy, Historical, Parody, Samurai, S...     TV       51    9.25   \n",
       "3                                   Sci-Fi, Thriller     TV       24    9.17   \n",
       "4  Action, Comedy, Historical, Parody, Samurai, S...     TV       51    9.16   \n",
       "\n",
       "   members  \n",
       "0   200630  \n",
       "1   793665  \n",
       "2   114262  \n",
       "3   673572  \n",
       "4   151266  "
      ]
     },
     "execution_count": 2,
     "metadata": {},
     "output_type": "execute_result"
    }
   ],
   "source": [
    "df.head()"
   ]
  },
  {
   "cell_type": "code",
   "execution_count": 3,
   "id": "55e68575",
   "metadata": {},
   "outputs": [
    {
     "name": "stdout",
     "output_type": "stream",
     "text": [
      "<class 'pandas.core.frame.DataFrame'>\n",
      "RangeIndex: 12294 entries, 0 to 12293\n",
      "Data columns (total 7 columns):\n",
      " #   Column    Non-Null Count  Dtype  \n",
      "---  ------    --------------  -----  \n",
      " 0   anime_id  12294 non-null  int64  \n",
      " 1   name      12294 non-null  object \n",
      " 2   genre     12232 non-null  object \n",
      " 3   type      12269 non-null  object \n",
      " 4   episodes  12294 non-null  object \n",
      " 5   rating    12064 non-null  float64\n",
      " 6   members   12294 non-null  int64  \n",
      "dtypes: float64(1), int64(2), object(4)\n",
      "memory usage: 672.5+ KB\n"
     ]
    }
   ],
   "source": [
    "# Basic info about the dataset\n",
    "df.info()"
   ]
  },
  {
   "cell_type": "code",
   "execution_count": 4,
   "id": "79216cd1",
   "metadata": {},
   "outputs": [
    {
     "data": {
      "text/plain": [
       "anime_id      0\n",
       "name          0\n",
       "genre        62\n",
       "type         25\n",
       "episodes      0\n",
       "rating      230\n",
       "members       0\n",
       "dtype: int64"
      ]
     },
     "execution_count": 4,
     "metadata": {},
     "output_type": "execute_result"
    }
   ],
   "source": [
    "df.isnull().sum()"
   ]
  },
  {
   "cell_type": "code",
   "execution_count": 5,
   "id": "5fa53c9f",
   "metadata": {},
   "outputs": [],
   "source": [
    "data=df.copy()"
   ]
  },
  {
   "cell_type": "code",
   "execution_count": 6,
   "id": "fd5d1dfb",
   "metadata": {},
   "outputs": [
    {
     "data": {
      "text/plain": [
       "array(['Drama, Romance, School, Supernatural',\n",
       "       'Action, Adventure, Drama, Fantasy, Magic, Military, Shounen',\n",
       "       'Action, Comedy, Historical, Parody, Samurai, Sci-Fi, Shounen',\n",
       "       ..., 'Hentai, Sports', 'Drama, Romance, School, Yuri',\n",
       "       'Hentai, Slice of Life'], shape=(3265,), dtype=object)"
      ]
     },
     "execution_count": 6,
     "metadata": {},
     "output_type": "execute_result"
    }
   ],
   "source": [
    "data.genre.unique()"
   ]
  },
  {
   "cell_type": "code",
   "execution_count": 7,
   "id": "083448be",
   "metadata": {},
   "outputs": [
    {
     "data": {
      "text/plain": [
       "array(['Movie', 'TV', 'OVA', 'Special', 'Music', 'ONA', nan], dtype=object)"
      ]
     },
     "execution_count": 7,
     "metadata": {},
     "output_type": "execute_result"
    }
   ],
   "source": [
    "data.type.unique()"
   ]
  },
  {
   "cell_type": "code",
   "execution_count": 8,
   "id": "0a8ae755",
   "metadata": {},
   "outputs": [
    {
     "data": {
      "text/plain": [
       "array(['1', '64', '51', '24', '10', '148', '110', '13', '201', '25', '22',\n",
       "       '75', '4', '26', '12', '27', '43', '74', '37', '2', '11', '99',\n",
       "       'Unknown', '39', '101', '47', '50', '62', '33', '112', '23', '3',\n",
       "       '94', '6', '8', '14', '7', '40', '15', '203', '77', '291', '120',\n",
       "       '102', '96', '38', '79', '175', '103', '70', '153', '45', '5',\n",
       "       '21', '63', '52', '28', '145', '36', '69', '60', '178', '114',\n",
       "       '35', '61', '34', '109', '20', '9', '49', '366', '97', '48', '78',\n",
       "       '358', '155', '104', '113', '54', '167', '161', '42', '142', '31',\n",
       "       '373', '220', '46', '195', '17', '1787', '73', '147', '127', '16',\n",
       "       '19', '98', '150', '76', '53', '124', '29', '115', '224', '44',\n",
       "       '58', '93', '154', '92', '67', '172', '86', '30', '276', '59',\n",
       "       '72', '330', '41', '105', '128', '137', '56', '55', '65', '243',\n",
       "       '193', '18', '191', '180', '91', '192', '66', '182', '32', '164',\n",
       "       '100', '296', '694', '95', '68', '117', '151', '130', '87', '170',\n",
       "       '119', '84', '108', '156', '140', '331', '305', '300', '510',\n",
       "       '200', '88', '1471', '526', '143', '726', '136', '1818', '237',\n",
       "       '1428', '365', '163', '283', '71', '260', '199', '225', '312',\n",
       "       '240', '1306', '1565', '773', '1274', '90', '475', '263', '83',\n",
       "       '85', '1006', '80', '162', '132', '141', '125'], dtype=object)"
      ]
     },
     "execution_count": 8,
     "metadata": {},
     "output_type": "execute_result"
    }
   ],
   "source": [
    "data.episodes.unique()"
   ]
  },
  {
   "cell_type": "code",
   "execution_count": 10,
   "id": "89620476",
   "metadata": {},
   "outputs": [],
   "source": [
    "#Convert 'episodes' - replace 'Unknown' with NaN then convert to numeric\n",
    "data['episodes']=data['episodes'].replace('Unknown',np.nan)\n",
    "data['episodes']=pd.to_numeric(data['episodes'],errors='coerce')"
   ]
  },
  {
   "cell_type": "code",
   "execution_count": 11,
   "id": "45150dca",
   "metadata": {},
   "outputs": [],
   "source": [
    "data['episodes']=data['episodes'].fillna(data['episodes'].median())"
   ]
  },
  {
   "cell_type": "code",
   "execution_count": 12,
   "id": "9058ea6b",
   "metadata": {},
   "outputs": [],
   "source": [
    "#fill missing 'type' with 'Unknown'\n",
    "data['type']=data['type'].fillna('Unknown')"
   ]
  },
  {
   "cell_type": "code",
   "execution_count": 13,
   "id": "e235b02f",
   "metadata": {},
   "outputs": [],
   "source": [
    "#For 'genre' - fill missing with 'Unknown' so we keep row but mark as unknown\n",
    "data['genre']=data['genre'].fillna('Unknown')"
   ]
  },
  {
   "cell_type": "code",
   "execution_count": 14,
   "id": "eb3d50db",
   "metadata": {},
   "outputs": [],
   "source": [
    "#For 'rating' - fill missing with the median rating\n",
    "median_rating=data['rating'].median()\n",
    "data['rating']=data['rating'].fillna(median_rating)"
   ]
  },
  {
   "cell_type": "code",
   "execution_count": 15,
   "id": "b8f4b3b5",
   "metadata": {},
   "outputs": [
    {
     "name": "stdout",
     "output_type": "stream",
     "text": [
      "<class 'pandas.core.frame.DataFrame'>\n",
      "RangeIndex: 12294 entries, 0 to 12293\n",
      "Data columns (total 7 columns):\n",
      " #   Column    Non-Null Count  Dtype  \n",
      "---  ------    --------------  -----  \n",
      " 0   anime_id  12294 non-null  int64  \n",
      " 1   name      12294 non-null  object \n",
      " 2   genre     12294 non-null  object \n",
      " 3   type      12294 non-null  object \n",
      " 4   episodes  12294 non-null  float64\n",
      " 5   rating    12294 non-null  float64\n",
      " 6   members   12294 non-null  int64  \n",
      "dtypes: float64(2), int64(2), object(3)\n",
      "memory usage: 672.5+ KB\n"
     ]
    }
   ],
   "source": [
    "data.info()"
   ]
  },
  {
   "cell_type": "code",
   "execution_count": 16,
   "id": "6b2c8733",
   "metadata": {},
   "outputs": [
    {
     "data": {
      "text/plain": [
       "array(['Movie', 'TV', 'OVA', 'Special', 'Music', 'ONA', 'Unknown'],\n",
       "      dtype=object)"
      ]
     },
     "execution_count": 16,
     "metadata": {},
     "output_type": "execute_result"
    }
   ],
   "source": [
    "data.type.unique()"
   ]
  },
  {
   "cell_type": "code",
   "execution_count": 17,
   "id": "247151a8",
   "metadata": {},
   "outputs": [
    {
     "data": {
      "text/plain": [
       "anime_id    0\n",
       "name        0\n",
       "genre       0\n",
       "type        0\n",
       "episodes    0\n",
       "rating      0\n",
       "members     0\n",
       "dtype: int64"
      ]
     },
     "execution_count": 17,
     "metadata": {},
     "output_type": "execute_result"
    }
   ],
   "source": [
    "data.isna().sum()"
   ]
  },
  {
   "cell_type": "code",
   "execution_count": null,
   "id": "144684ac",
   "metadata": {},
   "outputs": [],
   "source": [
    "#3. Feature extraction\n",
    "#We'll use: genres (multi-hot), type (one-hot), rating (normalized), members (log + normalized), episodes (normalized)\n",
    "from sklearn.preprocessing import MultiLabelBinarizer, OneHotEncoder, MinMaxScaler\n",
    "\n",
    "feat_df=data[['anime_id','name','genre','type','episodes','rating','members']].copy()"
   ]
  },
  {
   "cell_type": "code",
   "execution_count": 19,
   "id": "97dfa4db",
   "metadata": {},
   "outputs": [],
   "source": [
    "#Process genres: split by comma\n",
    "def split_genres(x):\n",
    "    if x=='Unknown':\n",
    "        return []\n",
    "    return [g.strip() for g in x.split(',') if g.strip()!='']\n",
    "\n",
    "feat_df['genre_list']=feat_df['genre'].apply(split_genres)\n",
    "#genre is a string like \"Action, Comedy, Drama\".We split it by , into a list of genres--[\"Action\",\"Comedy\",\"Drama\"].\n",
    "#If genre is \"Unknown\", we return an empty list.\n",
    "#So now we have a new column genre_list containing lists of genres."
   ]
  },
  {
   "cell_type": "code",
   "execution_count": 20,
   "id": "8e8bf908",
   "metadata": {},
   "outputs": [],
   "source": [
    "#MultiLabelBinarizer turns a list of labels into a multi-hot encoded vector.\n",
    "mlb=MultiLabelBinarizer()\n",
    "genre_matrix=mlb.fit_transform(feat_df['genre_list'])\n",
    "genre_cols=['genre_' + g.replace(' ', '_').replace('-', '_') for g in mlb.classes_]\n",
    "genre_df=pd.DataFrame(genre_matrix, columns=genre_cols, index=feat_df.index)\n",
    "#genre_df is a wide dataframe with 1 column per genre (genre_Action, genre_Comedy, etc.), values are 0/1."
   ]
  },
  {
   "cell_type": "code",
   "execution_count": 21,
   "id": "6b0c7885",
   "metadata": {},
   "outputs": [],
   "source": [
    "# One-hot for type (simple)\n",
    "type_ohe=pd.get_dummies(feat_df['type'],prefix='type')"
   ]
  },
  {
   "cell_type": "code",
   "execution_count": 22,
   "id": "c95541be",
   "metadata": {},
   "outputs": [],
   "source": [
    "# Prepare numeric columns\n",
    "num_df=feat_df[['episodes','rating','members']].copy()"
   ]
  },
  {
   "cell_type": "code",
   "execution_count": 23,
   "id": "cd693782",
   "metadata": {},
   "outputs": [],
   "source": [
    "#Normalize numeric columns (episodes, rating, members)\n",
    "scaler=MinMaxScaler()\n",
    "num_scaled=scaler.fit_transform(num_df[['episodes','rating','members']])\n",
    "num_scaled_df=pd.DataFrame(\n",
    "    num_scaled, \n",
    "    columns=['episodes_scaled','rating_scaled','members_scaled'], \n",
    "    index=feat_df.index\n",
    ")"
   ]
  },
  {
   "cell_type": "code",
   "execution_count": 24,
   "id": "c300690c",
   "metadata": {},
   "outputs": [
    {
     "name": "stdout",
     "output_type": "stream",
     "text": [
      "Feature matrix shape: (12294, 53)\n"
     ]
    },
    {
     "data": {
      "text/html": [
       "<div>\n",
       "<style scoped>\n",
       "    .dataframe tbody tr th:only-of-type {\n",
       "        vertical-align: middle;\n",
       "    }\n",
       "\n",
       "    .dataframe tbody tr th {\n",
       "        vertical-align: top;\n",
       "    }\n",
       "\n",
       "    .dataframe thead th {\n",
       "        text-align: right;\n",
       "    }\n",
       "</style>\n",
       "<table border=\"1\" class=\"dataframe\">\n",
       "  <thead>\n",
       "    <tr style=\"text-align: right;\">\n",
       "      <th></th>\n",
       "      <th>genre_Action</th>\n",
       "      <th>genre_Adventure</th>\n",
       "      <th>genre_Cars</th>\n",
       "      <th>genre_Comedy</th>\n",
       "      <th>genre_Dementia</th>\n",
       "      <th>genre_Demons</th>\n",
       "      <th>genre_Drama</th>\n",
       "      <th>genre_Ecchi</th>\n",
       "      <th>genre_Fantasy</th>\n",
       "      <th>genre_Game</th>\n",
       "      <th>...</th>\n",
       "      <th>type_Movie</th>\n",
       "      <th>type_Music</th>\n",
       "      <th>type_ONA</th>\n",
       "      <th>type_OVA</th>\n",
       "      <th>type_Special</th>\n",
       "      <th>type_TV</th>\n",
       "      <th>type_Unknown</th>\n",
       "      <th>episodes_scaled</th>\n",
       "      <th>rating_scaled</th>\n",
       "      <th>members_scaled</th>\n",
       "    </tr>\n",
       "  </thead>\n",
       "  <tbody>\n",
       "    <tr>\n",
       "      <th>0</th>\n",
       "      <td>0</td>\n",
       "      <td>0</td>\n",
       "      <td>0</td>\n",
       "      <td>0</td>\n",
       "      <td>0</td>\n",
       "      <td>0</td>\n",
       "      <td>1</td>\n",
       "      <td>0</td>\n",
       "      <td>0</td>\n",
       "      <td>0</td>\n",
       "      <td>...</td>\n",
       "      <td>True</td>\n",
       "      <td>False</td>\n",
       "      <td>False</td>\n",
       "      <td>False</td>\n",
       "      <td>False</td>\n",
       "      <td>False</td>\n",
       "      <td>False</td>\n",
       "      <td>0.000000</td>\n",
       "      <td>0.924370</td>\n",
       "      <td>0.197872</td>\n",
       "    </tr>\n",
       "    <tr>\n",
       "      <th>1</th>\n",
       "      <td>1</td>\n",
       "      <td>1</td>\n",
       "      <td>0</td>\n",
       "      <td>0</td>\n",
       "      <td>0</td>\n",
       "      <td>0</td>\n",
       "      <td>1</td>\n",
       "      <td>0</td>\n",
       "      <td>1</td>\n",
       "      <td>0</td>\n",
       "      <td>...</td>\n",
       "      <td>False</td>\n",
       "      <td>False</td>\n",
       "      <td>False</td>\n",
       "      <td>False</td>\n",
       "      <td>False</td>\n",
       "      <td>True</td>\n",
       "      <td>False</td>\n",
       "      <td>0.034673</td>\n",
       "      <td>0.911164</td>\n",
       "      <td>0.782770</td>\n",
       "    </tr>\n",
       "    <tr>\n",
       "      <th>2</th>\n",
       "      <td>1</td>\n",
       "      <td>0</td>\n",
       "      <td>0</td>\n",
       "      <td>1</td>\n",
       "      <td>0</td>\n",
       "      <td>0</td>\n",
       "      <td>0</td>\n",
       "      <td>0</td>\n",
       "      <td>0</td>\n",
       "      <td>0</td>\n",
       "      <td>...</td>\n",
       "      <td>False</td>\n",
       "      <td>False</td>\n",
       "      <td>False</td>\n",
       "      <td>False</td>\n",
       "      <td>False</td>\n",
       "      <td>True</td>\n",
       "      <td>False</td>\n",
       "      <td>0.027518</td>\n",
       "      <td>0.909964</td>\n",
       "      <td>0.112689</td>\n",
       "    </tr>\n",
       "    <tr>\n",
       "      <th>3</th>\n",
       "      <td>0</td>\n",
       "      <td>0</td>\n",
       "      <td>0</td>\n",
       "      <td>0</td>\n",
       "      <td>0</td>\n",
       "      <td>0</td>\n",
       "      <td>0</td>\n",
       "      <td>0</td>\n",
       "      <td>0</td>\n",
       "      <td>0</td>\n",
       "      <td>...</td>\n",
       "      <td>False</td>\n",
       "      <td>False</td>\n",
       "      <td>False</td>\n",
       "      <td>False</td>\n",
       "      <td>False</td>\n",
       "      <td>True</td>\n",
       "      <td>False</td>\n",
       "      <td>0.012658</td>\n",
       "      <td>0.900360</td>\n",
       "      <td>0.664325</td>\n",
       "    </tr>\n",
       "    <tr>\n",
       "      <th>4</th>\n",
       "      <td>1</td>\n",
       "      <td>0</td>\n",
       "      <td>0</td>\n",
       "      <td>1</td>\n",
       "      <td>0</td>\n",
       "      <td>0</td>\n",
       "      <td>0</td>\n",
       "      <td>0</td>\n",
       "      <td>0</td>\n",
       "      <td>0</td>\n",
       "      <td>...</td>\n",
       "      <td>False</td>\n",
       "      <td>False</td>\n",
       "      <td>False</td>\n",
       "      <td>False</td>\n",
       "      <td>False</td>\n",
       "      <td>True</td>\n",
       "      <td>False</td>\n",
       "      <td>0.027518</td>\n",
       "      <td>0.899160</td>\n",
       "      <td>0.149186</td>\n",
       "    </tr>\n",
       "  </tbody>\n",
       "</table>\n",
       "<p>5 rows × 53 columns</p>\n",
       "</div>"
      ],
      "text/plain": [
       "   genre_Action  genre_Adventure  genre_Cars  genre_Comedy  genre_Dementia  \\\n",
       "0             0                0           0             0               0   \n",
       "1             1                1           0             0               0   \n",
       "2             1                0           0             1               0   \n",
       "3             0                0           0             0               0   \n",
       "4             1                0           0             1               0   \n",
       "\n",
       "   genre_Demons  genre_Drama  genre_Ecchi  genre_Fantasy  genre_Game  ...  \\\n",
       "0             0            1            0              0           0  ...   \n",
       "1             0            1            0              1           0  ...   \n",
       "2             0            0            0              0           0  ...   \n",
       "3             0            0            0              0           0  ...   \n",
       "4             0            0            0              0           0  ...   \n",
       "\n",
       "   type_Movie  type_Music  type_ONA  type_OVA  type_Special  type_TV  \\\n",
       "0        True       False     False     False         False    False   \n",
       "1       False       False     False     False         False     True   \n",
       "2       False       False     False     False         False     True   \n",
       "3       False       False     False     False         False     True   \n",
       "4       False       False     False     False         False     True   \n",
       "\n",
       "   type_Unknown  episodes_scaled  rating_scaled  members_scaled  \n",
       "0         False         0.000000       0.924370        0.197872  \n",
       "1         False         0.034673       0.911164        0.782770  \n",
       "2         False         0.027518       0.909964        0.112689  \n",
       "3         False         0.012658       0.900360        0.664325  \n",
       "4         False         0.027518       0.899160        0.149186  \n",
       "\n",
       "[5 rows x 53 columns]"
      ]
     },
     "execution_count": 24,
     "metadata": {},
     "output_type": "execute_result"
    }
   ],
   "source": [
    "#Combine all features into single dataframe\n",
    "features=pd.concat([genre_df,type_ohe,num_scaled_df],axis=1)\n",
    "\n",
    "print('Feature matrix shape:',features.shape)\n",
    "features.head()"
   ]
  },
  {
   "cell_type": "code",
   "execution_count": 25,
   "id": "7b4d234e",
   "metadata": {},
   "outputs": [],
   "source": [
    "#4.Build cosine similarity recommender\n",
    "from sklearn.metrics.pairwise import cosine_similarity\n",
    "\n",
    "#Compute cosine similarity matrix on feature vectors\n",
    "feature_matrix=features.values\n",
    "cos_sim=cosine_similarity(feature_matrix)"
   ]
  },
  {
   "cell_type": "code",
   "execution_count": 26,
   "id": "dc18c711",
   "metadata": {},
   "outputs": [
    {
     "name": "stdout",
     "output_type": "stream",
     "text": [
      "Recommendations for Fullmetal Alchemist: Brotherhood\n",
      "[('Fullmetal Alchemist', np.float64(0.946)), ('Magi: The Labyrinth of Magic', np.float64(0.874)), ('Magi: The Kingdom of Magic', np.float64(0.87)), ('Densetsu no Yuusha no Densetsu', np.float64(0.861)), ('Magi: Sinbad no Bouken (TV)', np.float64(0.856))]\n"
     ]
    }
   ],
   "source": [
    "#simple recommender\n",
    "def recommend_by_name(anime_name,k=5):\n",
    "    #find index of anime\n",
    "    idx_list=feat_df.index[feat_df['name']==anime_name].tolist()\n",
    "    if len(idx_list)==0:\n",
    "        print(\"Anime not found. Type the exact name.\")\n",
    "        return []\n",
    "    idx=idx_list[0]\n",
    "    \n",
    "    #get similarity scores with all others\n",
    "    scores=[]\n",
    "    for i in range(len(cos_sim[idx])):\n",
    "        if i!=idx:   # skip itself\n",
    "            scores.append((i,cos_sim[idx][i]))\n",
    "    \n",
    "    #sort by similarity\n",
    "    scores=sorted(scores,key=lambda x: x[1],reverse=True)\n",
    "    \n",
    "    #take top k\n",
    "    topk=scores[:k]\n",
    "    \n",
    "    #prepare results\n",
    "    recs=[]\n",
    "    for i,s in topk:\n",
    "        recs.append((feat_df.loc[i,'name'],round(s,3)))\n",
    "    \n",
    "    return recs\n",
    "\n",
    "#example\n",
    "print(\"Recommendations for Fullmetal Alchemist: Brotherhood\")\n",
    "print(recommend_by_name(\"Fullmetal Alchemist: Brotherhood\",k=5))"
   ]
  },
  {
   "cell_type": "code",
   "execution_count": 27,
   "id": "bd6b71b2",
   "metadata": {},
   "outputs": [],
   "source": [
    "from sklearn.model_selection import train_test_split\n",
    "genre_bool=genre_df.astype(bool).values  #astype(bool) turns 1 to True and 0 to False."
   ]
  },
  {
   "cell_type": "code",
   "execution_count": 28,
   "id": "d4aec556",
   "metadata": {},
   "outputs": [],
   "source": [
    "idx_all=np.arange(len(feat_df))\n",
    "train_idx, test_idx=train_test_split(idx_all,test_size=0.2,random_state=42)\n",
    "#test_idx is a list of indices we will use as query items to evaluate recommendations."
   ]
  },
  {
   "cell_type": "code",
   "execution_count": null,
   "id": "22213058",
   "metadata": {},
   "outputs": [],
   "source": [
    "def evaluate_at_k(k=10,sample_size=300):\n",
    "    test_sample=np.random.choice(test_idx,size=min(sample_size,len(test_idx)),replace=False)\n",
    "    precs=[]\n",
    "    recs=[]\n",
    "    f1s=[]\n",
    "    \n",
    "    for q in test_sample:\n",
    "        # ground truth: items sharing at least 1 genre with q\n",
    "        q_genres=genre_bool[q]\n",
    "        gt_mask=np.any(genre_bool & q_genres,axis=1)\n",
    "        gt_mask[q]=False\n",
    "        gt_idx=set(np.where(gt_mask)[0])\n",
    "        \n",
    "        # get top-k recommendations\n",
    "        scores=[]\n",
    "        for i in range(len(cos_sim[q])):\n",
    "            if i!= q:\n",
    "                scores.append((i,cos_sim[q][i]))\n",
    "        scores=sorted(scores,key=lambda x: x[1],reverse=True)\n",
    "        rec_idx=[i for i,s in scores[:k]]\n",
    "        rec_set=set(rec_idx)\n",
    "        \n",
    "        # evaluation\n",
    "        if len(rec_set)==0:\n",
    "            precs.append(0.0)\n",
    "            recs.append(0.0)\n",
    "            f1s.append(0.0)\n",
    "            continue\n",
    "        tp=len(rec_set & gt_idx)\n",
    "        prec=tp/len(rec_set)\n",
    "        rec=tp/(len(gt_idx) if len(gt_idx)>0 else 1)\n",
    "        if prec + rec == 0:\n",
    "            f1 = 0.0\n",
    "        else:\n",
    "            f1 = 2 * prec * rec / (prec + rec)\n",
    "        \n",
    "        precs.append(prec)\n",
    "        recs.append(rec)\n",
    "        f1s.append(f1)\n",
    "    \n",
    "    return {'k': k, 'precision': np.mean(precs), 'recall': np.mean(recs), 'f1': np.mean(f1s)}\n",
    "\n",
    "#We randomly pick up to sample_size anime from test_idx to evaluate.\n",
    "#For each chosen query q we:\n",
    "#1)Build the ground-truth set (items that share a genre with q).\n",
    "#2)Get top-k recommendations for q from the similarity matrix.\n",
    "#3)Compute precision, recall and F1 for that query.\n",
    "#4)Store the numbers and later average them."
   ]
  },
  {
   "cell_type": "code",
   "execution_count": 30,
   "id": "c051327f",
   "metadata": {},
   "outputs": [
    {
     "name": "stdout",
     "output_type": "stream",
     "text": [
      "{'k': 5, 'precision': np.float64(0.996), 'recall': np.float64(0.002287005482799253), 'f1': np.float64(0.004546483039003933)}\n",
      "{'k': 10, 'precision': np.float64(0.9853333333333334), 'recall': np.float64(0.004184731844553136), 'f1': np.float64(0.008266271232755164)}\n",
      "{'k': 20, 'precision': np.float64(0.9980000000000001), 'recall': np.float64(0.007557629062220689), 'f1': np.float64(0.014873109644894068)}\n"
     ]
    }
   ],
   "source": [
    "#run evaluation\n",
    "results = []\n",
    "for k in [5, 10, 20]:\n",
    "    results.append(evaluate_at_k(k=k, sample_size=300))\n",
    "\n",
    "for r in results:\n",
    "    print(r)"
   ]
  },
  {
   "cell_type": "markdown",
   "id": "da93cc12",
   "metadata": {},
   "source": [
    "#### Analysis\n",
    "* The recommendation system built works fine with the chosen features (genres, type, rating, episodes, and members) and gives sensible results.  \n",
    "* It shows that even with basic feature engineering and cosine similarity, we can capture some meaningful relationships between anime.   \n",
    "* However, the performance is naturally limited because it relies on only a few features and a simple similarity approach.   \n",
    "* For stronger results, we would need richer features such as detailed descriptions, tags, or actual user rating data, and possibly advanced models like collaborative filtering or hybrid recommenders.   \n",
    "* These would help capture deeper patterns in user preferences and improve recommendation quality."
   ]
  },
  {
   "cell_type": "markdown",
   "id": "85f0f7d2",
   "metadata": {},
   "source": [
    "### Interview Questions:\n",
    "\n",
    "#### 1. Can you explain the difference between user-based and item-based collaborative filtering?\n",
    "\n",
    "- **User-based collaborative filtering**:  \n",
    "  - Idea: \"Users who are similar will like similar items.\"  \n",
    "  - It finds users with tastes similar to the target user and recommends items that those similar users liked.  \n",
    "  - Example:If User A and B both like Pizza and Burger, and User A also likes Pasta it recommends Pasta to User B.  \n",
    "\n",
    "- **Item-based collaborative filtering**:  \n",
    "  - Idea: \"Items that are similar will be liked by the same user.\"  \n",
    "  - It looks at item-to-item similarity and recommends items similar to what the user has already liked.  \n",
    "  - Example:If many users who bought a Phone also bought Earphones it recommends Earphones to a user who bought a Phone.  \n",
    "\n",
    "* Difference:  \n",
    "- User-based = finds similar **users** first.  \n",
    "- Item-based = finds similar **items** first.  \n",
    "\n",
    "---\n",
    "\n",
    "#### 2. What is collaborative filtering, and how does it work?\n",
    "\n",
    "- Collaborative filtering is a recommendation method that predicts what a user will like based on preferences of similar users or similar items.  \n",
    "- **How it works**:  \n",
    "  1. Collect user-item interaction data (ratings, purchases, clicks, etc.).  \n",
    "  2. Find patterns: either users who behave alike, or items that often go together.  \n",
    "  3. Recommend new items to the user based on these patterns.  \n",
    "\n",
    "* Example: On Netflix, if many people who watch Movie A also watch Movie B, then Movie B is recommended to someone who watched Movie A.  \n"
   ]
  },
  {
   "cell_type": "markdown",
   "id": "8daecd19",
   "metadata": {},
   "source": []
  }
 ],
 "metadata": {
  "kernelspec": {
   "display_name": "Python 3",
   "language": "python",
   "name": "python3"
  },
  "language_info": {
   "codemirror_mode": {
    "name": "ipython",
    "version": 3
   },
   "file_extension": ".py",
   "mimetype": "text/x-python",
   "name": "python",
   "nbconvert_exporter": "python",
   "pygments_lexer": "ipython3",
   "version": "3.12.0"
  }
 },
 "nbformat": 4,
 "nbformat_minor": 5
}
