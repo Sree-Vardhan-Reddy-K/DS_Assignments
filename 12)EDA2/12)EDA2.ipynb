{
 "cells": [
  {
   "cell_type": "code",
   "execution_count": 33,
   "id": "c2fc44c4",
   "metadata": {},
   "outputs": [
    {
     "data": {
      "text/html": [
       "<div>\n",
       "<style scoped>\n",
       "    .dataframe tbody tr th:only-of-type {\n",
       "        vertical-align: middle;\n",
       "    }\n",
       "\n",
       "    .dataframe tbody tr th {\n",
       "        vertical-align: top;\n",
       "    }\n",
       "\n",
       "    .dataframe thead th {\n",
       "        text-align: right;\n",
       "    }\n",
       "</style>\n",
       "<table border=\"1\" class=\"dataframe\">\n",
       "  <thead>\n",
       "    <tr style=\"text-align: right;\">\n",
       "      <th></th>\n",
       "      <th>age</th>\n",
       "      <th>workclass</th>\n",
       "      <th>fnlwgt</th>\n",
       "      <th>education</th>\n",
       "      <th>education_num</th>\n",
       "      <th>marital_status</th>\n",
       "      <th>occupation</th>\n",
       "      <th>relationship</th>\n",
       "      <th>race</th>\n",
       "      <th>sex</th>\n",
       "      <th>capital_gain</th>\n",
       "      <th>capital_loss</th>\n",
       "      <th>hours_per_week</th>\n",
       "      <th>native_country</th>\n",
       "      <th>income</th>\n",
       "    </tr>\n",
       "  </thead>\n",
       "  <tbody>\n",
       "    <tr>\n",
       "      <th>0</th>\n",
       "      <td>39</td>\n",
       "      <td>State-gov</td>\n",
       "      <td>77516</td>\n",
       "      <td>Bachelors</td>\n",
       "      <td>13</td>\n",
       "      <td>Never-married</td>\n",
       "      <td>Adm-clerical</td>\n",
       "      <td>Not-in-family</td>\n",
       "      <td>White</td>\n",
       "      <td>Male</td>\n",
       "      <td>2174</td>\n",
       "      <td>0</td>\n",
       "      <td>40</td>\n",
       "      <td>United-States</td>\n",
       "      <td>&lt;=50K</td>\n",
       "    </tr>\n",
       "    <tr>\n",
       "      <th>1</th>\n",
       "      <td>50</td>\n",
       "      <td>Self-emp-not-inc</td>\n",
       "      <td>83311</td>\n",
       "      <td>Bachelors</td>\n",
       "      <td>13</td>\n",
       "      <td>Married-civ-spouse</td>\n",
       "      <td>Exec-managerial</td>\n",
       "      <td>Husband</td>\n",
       "      <td>White</td>\n",
       "      <td>Male</td>\n",
       "      <td>0</td>\n",
       "      <td>0</td>\n",
       "      <td>13</td>\n",
       "      <td>United-States</td>\n",
       "      <td>&lt;=50K</td>\n",
       "    </tr>\n",
       "    <tr>\n",
       "      <th>2</th>\n",
       "      <td>38</td>\n",
       "      <td>Private</td>\n",
       "      <td>215646</td>\n",
       "      <td>HS-grad</td>\n",
       "      <td>9</td>\n",
       "      <td>Divorced</td>\n",
       "      <td>Handlers-cleaners</td>\n",
       "      <td>Not-in-family</td>\n",
       "      <td>White</td>\n",
       "      <td>Male</td>\n",
       "      <td>0</td>\n",
       "      <td>0</td>\n",
       "      <td>40</td>\n",
       "      <td>United-States</td>\n",
       "      <td>&lt;=50K</td>\n",
       "    </tr>\n",
       "    <tr>\n",
       "      <th>3</th>\n",
       "      <td>53</td>\n",
       "      <td>Private</td>\n",
       "      <td>234721</td>\n",
       "      <td>11th</td>\n",
       "      <td>7</td>\n",
       "      <td>Married-civ-spouse</td>\n",
       "      <td>Handlers-cleaners</td>\n",
       "      <td>Husband</td>\n",
       "      <td>Black</td>\n",
       "      <td>Male</td>\n",
       "      <td>0</td>\n",
       "      <td>0</td>\n",
       "      <td>40</td>\n",
       "      <td>United-States</td>\n",
       "      <td>&lt;=50K</td>\n",
       "    </tr>\n",
       "    <tr>\n",
       "      <th>4</th>\n",
       "      <td>28</td>\n",
       "      <td>Private</td>\n",
       "      <td>338409</td>\n",
       "      <td>Bachelors</td>\n",
       "      <td>13</td>\n",
       "      <td>Married-civ-spouse</td>\n",
       "      <td>Prof-specialty</td>\n",
       "      <td>Wife</td>\n",
       "      <td>Black</td>\n",
       "      <td>Female</td>\n",
       "      <td>0</td>\n",
       "      <td>0</td>\n",
       "      <td>40</td>\n",
       "      <td>Cuba</td>\n",
       "      <td>&lt;=50K</td>\n",
       "    </tr>\n",
       "  </tbody>\n",
       "</table>\n",
       "</div>"
      ],
      "text/plain": [
       "   age          workclass  fnlwgt   education  education_num  \\\n",
       "0   39          State-gov   77516   Bachelors             13   \n",
       "1   50   Self-emp-not-inc   83311   Bachelors             13   \n",
       "2   38            Private  215646     HS-grad              9   \n",
       "3   53            Private  234721        11th              7   \n",
       "4   28            Private  338409   Bachelors             13   \n",
       "\n",
       "        marital_status          occupation    relationship    race      sex  \\\n",
       "0        Never-married        Adm-clerical   Not-in-family   White     Male   \n",
       "1   Married-civ-spouse     Exec-managerial         Husband   White     Male   \n",
       "2             Divorced   Handlers-cleaners   Not-in-family   White     Male   \n",
       "3   Married-civ-spouse   Handlers-cleaners         Husband   Black     Male   \n",
       "4   Married-civ-spouse      Prof-specialty            Wife   Black   Female   \n",
       "\n",
       "   capital_gain  capital_loss  hours_per_week  native_country  income  \n",
       "0          2174             0              40   United-States   <=50K  \n",
       "1             0             0              13   United-States   <=50K  \n",
       "2             0             0              40   United-States   <=50K  \n",
       "3             0             0              40   United-States   <=50K  \n",
       "4             0             0              40            Cuba   <=50K  "
      ]
     },
     "execution_count": 33,
     "metadata": {},
     "output_type": "execute_result"
    }
   ],
   "source": [
    "import pandas as pd\n",
    "import numpy as np\n",
    "import seaborn as sns\n",
    "import matplotlib.pyplot as plt\n",
    "\n",
    "df=pd.read_csv(\"adult_with_headers.csv\")\n",
    "df.head()"
   ]
  },
  {
   "cell_type": "code",
   "execution_count": 34,
   "id": "7becc80f",
   "metadata": {},
   "outputs": [
    {
     "data": {
      "text/plain": [
       "(32561, 15)"
      ]
     },
     "execution_count": 34,
     "metadata": {},
     "output_type": "execute_result"
    }
   ],
   "source": [
    "df.shape"
   ]
  },
  {
   "cell_type": "code",
   "execution_count": 35,
   "id": "acb4f2ba",
   "metadata": {},
   "outputs": [
    {
     "name": "stdout",
     "output_type": "stream",
     "text": [
      "<class 'pandas.core.frame.DataFrame'>\n",
      "RangeIndex: 32561 entries, 0 to 32560\n",
      "Data columns (total 15 columns):\n",
      " #   Column          Non-Null Count  Dtype \n",
      "---  ------          --------------  ----- \n",
      " 0   age             32561 non-null  int64 \n",
      " 1   workclass       32561 non-null  object\n",
      " 2   fnlwgt          32561 non-null  int64 \n",
      " 3   education       32561 non-null  object\n",
      " 4   education_num   32561 non-null  int64 \n",
      " 5   marital_status  32561 non-null  object\n",
      " 6   occupation      32561 non-null  object\n",
      " 7   relationship    32561 non-null  object\n",
      " 8   race            32561 non-null  object\n",
      " 9   sex             32561 non-null  object\n",
      " 10  capital_gain    32561 non-null  int64 \n",
      " 11  capital_loss    32561 non-null  int64 \n",
      " 12  hours_per_week  32561 non-null  int64 \n",
      " 13  native_country  32561 non-null  object\n",
      " 14  income          32561 non-null  object\n",
      "dtypes: int64(6), object(9)\n",
      "memory usage: 3.7+ MB\n"
     ]
    }
   ],
   "source": [
    "df.info()"
   ]
  },
  {
   "cell_type": "code",
   "execution_count": 36,
   "id": "2cd087c9",
   "metadata": {},
   "outputs": [
    {
     "data": {
      "text/html": [
       "<div>\n",
       "<style scoped>\n",
       "    .dataframe tbody tr th:only-of-type {\n",
       "        vertical-align: middle;\n",
       "    }\n",
       "\n",
       "    .dataframe tbody tr th {\n",
       "        vertical-align: top;\n",
       "    }\n",
       "\n",
       "    .dataframe thead th {\n",
       "        text-align: right;\n",
       "    }\n",
       "</style>\n",
       "<table border=\"1\" class=\"dataframe\">\n",
       "  <thead>\n",
       "    <tr style=\"text-align: right;\">\n",
       "      <th></th>\n",
       "      <th>age</th>\n",
       "      <th>fnlwgt</th>\n",
       "      <th>education_num</th>\n",
       "      <th>capital_gain</th>\n",
       "      <th>capital_loss</th>\n",
       "      <th>hours_per_week</th>\n",
       "    </tr>\n",
       "  </thead>\n",
       "  <tbody>\n",
       "    <tr>\n",
       "      <th>count</th>\n",
       "      <td>32561.000000</td>\n",
       "      <td>3.256100e+04</td>\n",
       "      <td>32561.000000</td>\n",
       "      <td>32561.000000</td>\n",
       "      <td>32561.000000</td>\n",
       "      <td>32561.000000</td>\n",
       "    </tr>\n",
       "    <tr>\n",
       "      <th>mean</th>\n",
       "      <td>38.581647</td>\n",
       "      <td>1.897784e+05</td>\n",
       "      <td>10.080679</td>\n",
       "      <td>1077.648844</td>\n",
       "      <td>87.303830</td>\n",
       "      <td>40.437456</td>\n",
       "    </tr>\n",
       "    <tr>\n",
       "      <th>std</th>\n",
       "      <td>13.640433</td>\n",
       "      <td>1.055500e+05</td>\n",
       "      <td>2.572720</td>\n",
       "      <td>7385.292085</td>\n",
       "      <td>402.960219</td>\n",
       "      <td>12.347429</td>\n",
       "    </tr>\n",
       "    <tr>\n",
       "      <th>min</th>\n",
       "      <td>17.000000</td>\n",
       "      <td>1.228500e+04</td>\n",
       "      <td>1.000000</td>\n",
       "      <td>0.000000</td>\n",
       "      <td>0.000000</td>\n",
       "      <td>1.000000</td>\n",
       "    </tr>\n",
       "    <tr>\n",
       "      <th>25%</th>\n",
       "      <td>28.000000</td>\n",
       "      <td>1.178270e+05</td>\n",
       "      <td>9.000000</td>\n",
       "      <td>0.000000</td>\n",
       "      <td>0.000000</td>\n",
       "      <td>40.000000</td>\n",
       "    </tr>\n",
       "    <tr>\n",
       "      <th>50%</th>\n",
       "      <td>37.000000</td>\n",
       "      <td>1.783560e+05</td>\n",
       "      <td>10.000000</td>\n",
       "      <td>0.000000</td>\n",
       "      <td>0.000000</td>\n",
       "      <td>40.000000</td>\n",
       "    </tr>\n",
       "    <tr>\n",
       "      <th>75%</th>\n",
       "      <td>48.000000</td>\n",
       "      <td>2.370510e+05</td>\n",
       "      <td>12.000000</td>\n",
       "      <td>0.000000</td>\n",
       "      <td>0.000000</td>\n",
       "      <td>45.000000</td>\n",
       "    </tr>\n",
       "    <tr>\n",
       "      <th>max</th>\n",
       "      <td>90.000000</td>\n",
       "      <td>1.484705e+06</td>\n",
       "      <td>16.000000</td>\n",
       "      <td>99999.000000</td>\n",
       "      <td>4356.000000</td>\n",
       "      <td>99.000000</td>\n",
       "    </tr>\n",
       "  </tbody>\n",
       "</table>\n",
       "</div>"
      ],
      "text/plain": [
       "                age        fnlwgt  education_num  capital_gain  capital_loss  \\\n",
       "count  32561.000000  3.256100e+04   32561.000000  32561.000000  32561.000000   \n",
       "mean      38.581647  1.897784e+05      10.080679   1077.648844     87.303830   \n",
       "std       13.640433  1.055500e+05       2.572720   7385.292085    402.960219   \n",
       "min       17.000000  1.228500e+04       1.000000      0.000000      0.000000   \n",
       "25%       28.000000  1.178270e+05       9.000000      0.000000      0.000000   \n",
       "50%       37.000000  1.783560e+05      10.000000      0.000000      0.000000   \n",
       "75%       48.000000  2.370510e+05      12.000000      0.000000      0.000000   \n",
       "max       90.000000  1.484705e+06      16.000000  99999.000000   4356.000000   \n",
       "\n",
       "       hours_per_week  \n",
       "count    32561.000000  \n",
       "mean        40.437456  \n",
       "std         12.347429  \n",
       "min          1.000000  \n",
       "25%         40.000000  \n",
       "50%         40.000000  \n",
       "75%         45.000000  \n",
       "max         99.000000  "
      ]
     },
     "execution_count": 36,
     "metadata": {},
     "output_type": "execute_result"
    }
   ],
   "source": [
    "df.describe()"
   ]
  },
  {
   "cell_type": "code",
   "execution_count": 37,
   "id": "63bb08a8",
   "metadata": {},
   "outputs": [
    {
     "data": {
      "text/plain": [
       "age               0\n",
       "workclass         0\n",
       "fnlwgt            0\n",
       "education         0\n",
       "education_num     0\n",
       "marital_status    0\n",
       "occupation        0\n",
       "relationship      0\n",
       "race              0\n",
       "sex               0\n",
       "capital_gain      0\n",
       "capital_loss      0\n",
       "hours_per_week    0\n",
       "native_country    0\n",
       "income            0\n",
       "dtype: int64"
      ]
     },
     "execution_count": 37,
     "metadata": {},
     "output_type": "execute_result"
    }
   ],
   "source": [
    "df.isna().sum()"
   ]
  },
  {
   "cell_type": "code",
   "execution_count": 38,
   "id": "86cc1f87",
   "metadata": {},
   "outputs": [],
   "source": [
    "#Replace '?' with NaN\n",
    "df.replace(' ?', np.nan, inplace=True)"
   ]
  },
  {
   "cell_type": "code",
   "execution_count": 39,
   "id": "b96087d3",
   "metadata": {},
   "outputs": [
    {
     "data": {
      "text/plain": [
       "age                  0\n",
       "workclass         1836\n",
       "fnlwgt               0\n",
       "education            0\n",
       "education_num        0\n",
       "marital_status       0\n",
       "occupation        1843\n",
       "relationship         0\n",
       "race                 0\n",
       "sex                  0\n",
       "capital_gain         0\n",
       "capital_loss         0\n",
       "hours_per_week       0\n",
       "native_country     583\n",
       "income               0\n",
       "dtype: int64"
      ]
     },
     "execution_count": 39,
     "metadata": {},
     "output_type": "execute_result"
    }
   ],
   "source": [
    "df.isna().sum()"
   ]
  },
  {
   "cell_type": "code",
   "execution_count": 40,
   "id": "c685d716",
   "metadata": {},
   "outputs": [],
   "source": [
    "#Strip whitespace in all object columns (so \" Private\" -> \"Private\")\n",
    "for c in df.select_dtypes(include=['object']).columns:\n",
    "    df[c] = df[c].str.strip()"
   ]
  },
  {
   "cell_type": "code",
   "execution_count": 41,
   "id": "1f54e42a",
   "metadata": {},
   "outputs": [
    {
     "data": {
      "text/plain": [
       "workclass         1836\n",
       "occupation        1843\n",
       "native_country     583\n",
       "dtype: int64"
      ]
     },
     "execution_count": 41,
     "metadata": {},
     "output_type": "execute_result"
    }
   ],
   "source": [
    "#How many missing incolumns\n",
    "df[['workclass','occupation','native_country']].isnull().sum()"
   ]
  },
  {
   "cell_type": "code",
   "execution_count": 42,
   "id": "5fda7a6a",
   "metadata": {},
   "outputs": [
    {
     "name": "stderr",
     "output_type": "stream",
     "text": [
      "C:\\Users\\Srees_lappy\\AppData\\Local\\Temp\\ipykernel_25328\\3147723984.py:4: FutureWarning: A value is trying to be set on a copy of a DataFrame or Series through chained assignment using an inplace method.\n",
      "The behavior will change in pandas 3.0. This inplace method will never work because the intermediate object on which we are setting values always behaves as a copy.\n",
      "\n",
      "For example, when doing 'df[col].method(value, inplace=True)', try using 'df.method({col: value}, inplace=True)' or df[col] = df[col].method(value) instead, to perform the operation inplace on the original object.\n",
      "\n",
      "\n",
      "  df[c].fillna(df[c].mode()[0], inplace=True)\n"
     ]
    }
   ],
   "source": [
    "#Fill with mode (keeps all rows)\n",
    "for c in ['workclass','occupation','native_country']:\n",
    "    if df[c].isnull().sum() > 0:\n",
    "        df[c].fillna(df[c].mode()[0], inplace=True)"
   ]
  },
  {
   "cell_type": "code",
   "execution_count": 43,
   "id": "3e66477f",
   "metadata": {},
   "outputs": [
    {
     "data": {
      "text/plain": [
       "age               0\n",
       "workclass         0\n",
       "fnlwgt            0\n",
       "education         0\n",
       "education_num     0\n",
       "marital_status    0\n",
       "occupation        0\n",
       "relationship      0\n",
       "race              0\n",
       "sex               0\n",
       "capital_gain      0\n",
       "capital_loss      0\n",
       "hours_per_week    0\n",
       "native_country    0\n",
       "income            0\n",
       "dtype: int64"
      ]
     },
     "execution_count": 43,
     "metadata": {},
     "output_type": "execute_result"
    }
   ],
   "source": [
    "df.isna().sum()"
   ]
  },
  {
   "cell_type": "code",
   "execution_count": 44,
   "id": "91eff44d",
   "metadata": {},
   "outputs": [],
   "source": [
    "#Scaling\n",
    "from sklearn.preprocessing import StandardScaler, MinMaxScaler\n",
    "\n",
    "#Select numeric columns\n",
    "num_cols=df.select_dtypes(include=['int64','float64']).columns\n",
    "\n",
    "#Standard Scaling\n",
    "scaler=StandardScaler()\n",
    "df_std=df.copy()\n",
    "df_std[num_cols]=scaler.fit_transform(df[num_cols])"
   ]
  },
  {
   "cell_type": "code",
   "execution_count": 45,
   "id": "66e4497e",
   "metadata": {},
   "outputs": [],
   "source": [
    "#Min-Max Scaling\n",
    "scaler_mm=MinMaxScaler()\n",
    "df_mm=df.copy()\n",
    "df_mm[num_cols]=scaler_mm.fit_transform(df[num_cols])"
   ]
  },
  {
   "cell_type": "code",
   "execution_count": 46,
   "id": "05f20da9",
   "metadata": {},
   "outputs": [
    {
     "name": "stdout",
     "output_type": "stream",
     "text": [
      "Standard Scaled sample:         age    fnlwgt  education_num  capital_gain  capital_loss  \\\n",
      "0  0.030671 -1.063611       1.134739      0.148453      -0.21666   \n",
      "1  0.837109 -1.008707       1.134739     -0.145920      -0.21666   \n",
      "2 -0.042642  0.245079      -0.420060     -0.145920      -0.21666   \n",
      "3  1.057047  0.425801      -1.197459     -0.145920      -0.21666   \n",
      "4 -0.775768  1.408176       1.134739     -0.145920      -0.21666   \n",
      "\n",
      "   hours_per_week  \n",
      "0       -0.035429  \n",
      "1       -2.222153  \n",
      "2       -0.035429  \n",
      "3       -0.035429  \n",
      "4       -0.035429  \n",
      "\n",
      "Min-Max Scaled sample:         age    fnlwgt  education_num  capital_gain  capital_loss  \\\n",
      "0  0.301370  0.044302       0.800000       0.02174           0.0   \n",
      "1  0.452055  0.048238       0.800000       0.00000           0.0   \n",
      "2  0.287671  0.138113       0.533333       0.00000           0.0   \n",
      "3  0.493151  0.151068       0.400000       0.00000           0.0   \n",
      "4  0.150685  0.221488       0.800000       0.00000           0.0   \n",
      "\n",
      "   hours_per_week  \n",
      "0        0.397959  \n",
      "1        0.122449  \n",
      "2        0.397959  \n",
      "3        0.397959  \n",
      "4        0.397959  \n"
     ]
    }
   ],
   "source": [
    "print(\"Standard Scaled sample:\",df_std[num_cols].head())\n",
    "print(\"\\nMin-Max Scaled sample:\",df_mm[num_cols].head())"
   ]
  },
  {
   "cell_type": "markdown",
   "id": "74f49931",
   "metadata": {},
   "source": [
    "* Standard Scaling: good when data is normal (mean=0, std=1). Used in SVM, Logistic Regression, PCA.\n",
    "* Min-Max Scaling: compresses values to [0,1]. Used in Neural Networks, KNN, KMeans."
   ]
  },
  {
   "cell_type": "code",
   "execution_count": 47,
   "id": "be2d4dac",
   "metadata": {},
   "outputs": [
    {
     "name": "stdout",
     "output_type": "stream",
     "text": [
      "   age  workclass  fnlwgt  education  education_num  marital_status  \\\n",
      "0   39          6   77516          9             13               4   \n",
      "1   50          5   83311          9             13               2   \n",
      "2   38          3  215646         11              9               0   \n",
      "3   53          3  234721          1              7               2   \n",
      "4   28          3  338409          9             13               2   \n",
      "\n",
      "   occupation  relationship  capital_gain  capital_loss  ...  native_country  \\\n",
      "0           0             1          2174             0  ...              38   \n",
      "1           3             0             0             0  ...              38   \n",
      "2           5             1             0             0  ...              38   \n",
      "3           5             0             0             0  ...              38   \n",
      "4           9             5             0             0  ...               4   \n",
      "\n",
      "   race_Amer-Indian-Eskimo  race_Asian-Pac-Islander  race_Black  race_Other  \\\n",
      "0                    False                    False       False       False   \n",
      "1                    False                    False       False       False   \n",
      "2                    False                    False       False       False   \n",
      "3                    False                    False        True       False   \n",
      "4                    False                    False        True       False   \n",
      "\n",
      "   race_White  sex_Female  sex_Male  income_<=50K  income_>50K  \n",
      "0        True       False      True          True        False  \n",
      "1        True       False      True          True        False  \n",
      "2        True       False      True          True        False  \n",
      "3       False       False      True          True        False  \n",
      "4       False        True     False          True        False  \n",
      "\n",
      "[5 rows x 21 columns]\n"
     ]
    }
   ],
   "source": [
    "#Encoding Techniques\n",
    "from sklearn.preprocessing import LabelEncoder\n",
    "cat_cols=df.select_dtypes(include=['object']).columns\n",
    "df_enc=df.copy()\n",
    "\n",
    "for col in cat_cols:\n",
    "    if df[col].nunique()<=5:\n",
    "        # One-Hot Encoding\n",
    "        df_enc=pd.get_dummies(df_enc,columns=[col],prefix=col)\n",
    "    else:\n",
    "        # Label Encoding\n",
    "        le=LabelEncoder()\n",
    "        df_enc[col]=le.fit_transform(df_enc[col].astype(str))\n",
    "\n",
    "print(df_enc.head())"
   ]
  },
  {
   "cell_type": "markdown",
   "id": "f89abde8",
   "metadata": {},
   "source": [
    "* One-Hot Encoding: no order assumed, good for few categories, but increases columns.\n",
    "* Label Encoding: efficient for many categories, but imposes artificial order."
   ]
  },
  {
   "cell_type": "code",
   "execution_count": 48,
   "id": "1f9c9db3",
   "metadata": {},
   "outputs": [
    {
     "name": "stdout",
     "output_type": "stream",
     "text": [
      "   age age_group  hours_per_week work_hours_cat  capital_gain  \\\n",
      "0   39     Adult              40      Full_time          2174   \n",
      "1   50   Mid_age              13      Part_time             0   \n",
      "2   38     Adult              40      Full_time             0   \n",
      "3   53   Mid_age              40      Full_time             0   \n",
      "4   28     Adult              40      Full_time             0   \n",
      "\n",
      "   capital_gain_log  \n",
      "0          7.684784  \n",
      "1          0.000000  \n",
      "2          0.000000  \n",
      "3          0.000000  \n",
      "4          0.000000  \n"
     ]
    }
   ],
   "source": [
    "#Feature Engineering\n",
    "#New Feature 1: Age Group (divide ages into categories)\n",
    "df['age_group']=pd.cut(df['age'],bins=[0, 25, 45, 65, 100],labels=['Youth', 'Adult', 'Mid_age', 'Senior'])\n",
    "\n",
    "#New Feature 2: Work Hours Category (classify hours per week)\n",
    "df['work_hours_cat']=pd.cut(df['hours_per_week'],bins=[0, 20, 40, 60, 100],labels=['Part_time', 'Full_time', 'Overtime', 'Extreme'])\n",
    "\n",
    "#Transformation: Log of capital_gain (to reduce skewness)\n",
    "df['capital_gain_log']=np.log1p(df['capital_gain'])\n",
    "\n",
    "print(df[['age','age_group','hours_per_week','work_hours_cat','capital_gain','capital_gain_log']].head())"
   ]
  },
  {
   "cell_type": "markdown",
   "id": "d9999ea3",
   "metadata": {},
   "source": [
    "* Age group helps cluster ages into meaningful categories.\n",
    "* Work hours groups people into different work types.\n",
    "* Log transform reduces skewness in capital-gain."
   ]
  },
  {
   "cell_type": "code",
   "execution_count": 49,
   "id": "54c6e39f",
   "metadata": {},
   "outputs": [],
   "source": [
    "#Feature Selection\n",
    "from sklearn.ensemble import IsolationForest\n",
    "\n",
    "#Select only numeric columns for outlier detection\n",
    "num_data=df.select_dtypes(include=['int64','float64'])\n",
    "\n",
    "#Build isolation forest model\n",
    "iso=IsolationForest(contamination=0.02, random_state=42)"
   ]
  },
  {
   "cell_type": "markdown",
   "id": "dcd65d8b",
   "metadata": {},
   "source": [
    "##### Discussion: Impact of Outliers on Model Performance\n",
    "\n",
    "\n",
    "Outliers are data points that are very different from the rest of the observations. They can have a big impact on how models learn patterns.  \n",
    "\n",
    "- In regression, even a few extreme values can pull the regression line toward them, which reduces accuracy.  \n",
    "- In distance-based models like KNN or clustering, outliers stretch the distance space and may be treated as neighbors even though they don’t represent the majority of the data.  \n",
    "- In tree-based models, outliers may lead to unnecessary splits, which makes the model more complex and can cause overfitting.  \n",
    "- They also affect preprocessing: things like mean, variance, scaling, and normalization all get skewed when outliers are present.  \n",
    "\n",
    "--- \n",
    "\n",
    "For the **Adult Income dataset**, this problem is quite relevant. For example:  \n",
    "- Features like **capital-gain** and **capital-loss** contain very extreme values, where most people have 0 but a few records have unusually high amounts.  \n",
    "- **Hours-per-week** also has rare cases with extreme working hours that don’t reflect most of the population.  \n",
    "* If we keep these outliers, models might give them more importance than they deserve.  \n",
    "\n",
    "* To handle this, I applied **Isolation Forest** and removed about ~2% of the data as outliers.  \n",
    "* By removing these extreme cases, the dataset becomes cleaner.\n",
    "* This helps models like KNN (which is distance-based) and regression models to perform more reliably, without being biased by just a few unusual records.\n"
   ]
  },
  {
   "cell_type": "code",
   "execution_count": 50,
   "id": "61568d74",
   "metadata": {},
   "outputs": [
    {
     "name": "stdout",
     "output_type": "stream",
     "text": [
      "Original shape: (32561, 18)\n",
      "After removing outliers: (31909, 18)\n"
     ]
    }
   ],
   "source": [
    "#Fit model and predict (-1 means outlier, 1 means normal)\n",
    "outlier_pred=iso.fit_predict(num_data)\n",
    "\n",
    "#Keep only normal data (outlier_pred = 1)\n",
    "df_clean=df[outlier_pred==1]\n",
    "\n",
    "print(\"Original shape:\",df.shape)\n",
    "print(\"After removing outliers:\",df_clean.shape)"
   ]
  },
  {
   "cell_type": "markdown",
   "id": "0dc13a05",
   "metadata": {},
   "source": [
    "**Note:** The assignment originally suggested using the Predictive Power Score (PPS) to analyze relationships between features.  \n",
    "* Since the **ppscore library** is not available in this environment, and i'm facing compatibility issues between ppscore which is avilable in pandas version 1.5.3 and the latest pandas version is 2.3.2, I used **Mutual Information (MI)** from `scikit-learn` as an alternative.  \n",
    "* MI serves the same purpose by capturing both linear and non-linear dependencies between variables (numeric and categorical), making it a perfect replacement for PPS in this analysis."
   ]
  },
  {
   "cell_type": "code",
   "execution_count": 51,
   "id": "dc57c2e6",
   "metadata": {},
   "outputs": [
    {
     "data": {
      "image/png": "[encoded data removed]",
      "text/plain": [
       "<Figure size 1000x600 with 2 Axes>"
      ]
     },
     "metadata": {},
     "output_type": "display_data"
    }
   ],
   "source": [
    "# Correlation Matrix\n",
    "corr = df_clean.select_dtypes(include=['int64', 'float64']).corr()\n",
    "\n",
    "plt.figure(figsize=(10,6))\n",
    "sns.heatmap(corr, cmap='coolwarm', annot=True)\n",
    "plt.title(\"Correlation Matrix (Numeric Features Only)\")\n",
    "plt.show()"
   ]
  },
  {
   "cell_type": "code",
   "execution_count": 52,
   "id": "21fc0f61",
   "metadata": {},
   "outputs": [],
   "source": [
    "#Mutual Information(PPS Alternative)\n",
    "\n",
    "from sklearn.feature_selection import mutual_info_classif\n",
    "from sklearn.preprocessing import LabelEncoder\n",
    "\n",
    "# Target variable\n",
    "target = 'income'\n",
    "\n",
    "# Encode target\n",
    "y = LabelEncoder().fit_transform(df_clean[target])\n",
    "\n",
    "# Features\n",
    "X = df_clean.drop(columns=[target]).copy()"
   ]
  },
  {
   "cell_type": "code",
   "execution_count": 53,
   "id": "84453790",
   "metadata": {},
   "outputs": [],
   "source": [
    "# Encode ALL categorical columns\n",
    "for col in X.select_dtypes(include=['object', 'category']).columns:\n",
    "    X[col] = LabelEncoder().fit_transform(X[col].astype(str))\n"
   ]
  },
  {
   "cell_type": "code",
   "execution_count": 54,
   "id": "20fbdc12",
   "metadata": {},
   "outputs": [],
   "source": [
    "# Compute mutual information\n",
    "mi_scores = mutual_info_classif(X, y, discrete_features='auto', random_state=42)\n",
    "mi_scores = pd.Series(mi_scores, index=X.columns).sort_values(ascending=False)"
   ]
  },
  {
   "cell_type": "code",
   "execution_count": 55,
   "id": "e6d95102",
   "metadata": {},
   "outputs": [
    {
     "name": "stdout",
     "output_type": "stream",
     "text": [
      "Top Features by Mutual Information(similar to PPS):\n",
      "relationship        0.113706\n",
      "marital_status      0.107063\n",
      "age                 0.068646\n",
      "capital_gain_log    0.064529\n",
      "capital_gain        0.063407\n",
      "education_num       0.060910\n",
      "education           0.057687\n",
      "occupation          0.053104\n",
      "age_group           0.049978\n",
      "hours_per_week      0.041477\n",
      "dtype: float64\n"
     ]
    }
   ],
   "source": [
    "print(\"Top Features by Mutual Information(similar to PPS):\")\n",
    "print(mi_scores.head(10))"
   ]
  },
  {
   "cell_type": "markdown",
   "id": "c0b57dec",
   "metadata": {},
   "source": [
    "### Discussion: Correlation vs. Mutual Information (MI)\n",
    "\n",
    "Correlation and Mutual Information (MI) both help us understand how features are related to the target variable, but they don’t always tell the same story.\n",
    "\n",
    "- **Correlation** only measures linear numeric relationships. \n",
    "* For example, if age increases and income also increases in a straight line, correlation will show a strong relationship. \n",
    "* But if the pattern is curved or step-like, correlation will underestimate it. \n",
    "* Also, correlation cannot directly handle categorical variables, so it ignores many useful relationships in this dataset.  \n",
    "\n",
    "- **Mutual Information (MI)** is more powerful because it can capture any kind of dependency (both linear and non-linear), and it also works with categorical features once they are encoded into numbers. \n",
    "* This makes MI more suitable for the Adult Income dataset, since it has both numeric features (like age, hours-per-week, capital-gain) and categorical ones (like education, occupation, marital-status).  \n",
    "\n",
    "##### Key Insights from Comparing Both:\n",
    "- Features such as **education**, **occupation**, and **marital-status** barely showed up in the correlation matrix.\n",
    "* However, MI ranked them much higher in terms of predictive power. \n",
    "* This makes sense because these are categorical attributes that have a big influence on whether a person earns more than 50K, but correlation simply can’t detect that.  \n",
    "\n",
    "- **Hours-per-week** had a weak correlation with income, but MI revealed it as a meaningful predictor. \n",
    "* People who work very low hours usually earn less, while people who work overtime or extreme hours tend to earn more, which is not a straight-line trend. \n",
    "* That’s why MI picked it up but correlation didn’t.  \n",
    "- Numeric outliers like **capital-gain** also behave interestingly: correlation shows some relationship with income, but MI emphasizes it more strongly, because the effect is not uniform—it’s mostly zero for many people, but for a small group it heavily impacts income.  \n",
    "\n",
    "#### Overall Comparison:\n",
    "- Correlation is a quick and simple way to check for straight-line relationships between numeric variables, but it gives a limited view.   \n",
    "- MI goes deeper and uncovers both linear and non-linear influences, and it brings out the importance of categorical features that correlation ignores.  \n",
    "- For this dataset, relying only on correlation would make us underestimate the importance of key predictors like education, occupation, and marital-status, while MI highlights their true predictive value.   \n",
    "- This shows why MI (or PPS in general) is a better choice for feature importance in mixed datasets like Adult Income.\n",
    "- This comparison shows that MI (used here as a PPS alternative) reveals important relationships, such as the impact of education and marital-status on income, which are not evident in the correlation matrix. Hence, MI provides additional insights beyond correlation.”\n"
   ]
  }
 ],
 "metadata": {
  "kernelspec": {
   "display_name": "Python 3",
   "language": "python",
   "name": "python3"
  },
  "language_info": {
   "codemirror_mode": {
    "name": "ipython",
    "version": 3
   },
   "file_extension": ".py",
   "mimetype": "text/x-python",
   "name": "python",
   "nbconvert_exporter": "python",
   "pygments_lexer": "ipython3",
   "version": "3.12.0"
  }
 },
 "nbformat": 4,
 "nbformat_minor": 5
}
