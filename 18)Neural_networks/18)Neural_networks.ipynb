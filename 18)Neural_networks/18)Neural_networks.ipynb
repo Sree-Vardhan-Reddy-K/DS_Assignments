{
 "cells": [
  {
   "cell_type": "markdown",
   "id": "907b23c7",
   "metadata": {},
   "source": [
    "## Neural Networks"
   ]
  },
  {
   "cell_type": "code",
   "execution_count": 1,
   "id": "8c1dc92b",
   "metadata": {},
   "outputs": [],
   "source": [
    "import pandas as pd\n",
    "from sklearn.preprocessing import MinMaxScaler,LabelEncoder\n",
    "from sklearn.model_selection import train_test_split\n",
    "from tensorflow.keras.models import Sequential\n",
    "from tensorflow.keras.layers import Dense\n",
    "import scikeras\n",
    "from tensorflow.keras.optimizers import Adam\n",
    "from sklearn.metrics import accuracy_score,precision_score,recall_score,f1_score,classification_report"
   ]
  },
  {
   "cell_type": "code",
   "execution_count": 2,
   "id": "2f6498e2",
   "metadata": {},
   "outputs": [],
   "source": [
    "df=pd.read_csv(\"Alphabets_data.csv\")"
   ]
  },
  {
   "cell_type": "code",
   "execution_count": 3,
   "id": "e8908e0c",
   "metadata": {},
   "outputs": [
    {
     "data": {
      "text/html": [
       "<div>\n",
       "<style scoped>\n",
       "    .dataframe tbody tr th:only-of-type {\n",
       "        vertical-align: middle;\n",
       "    }\n",
       "\n",
       "    .dataframe tbody tr th {\n",
       "        vertical-align: top;\n",
       "    }\n",
       "\n",
       "    .dataframe thead th {\n",
       "        text-align: right;\n",
       "    }\n",
       "</style>\n",
       "<table border=\"1\" class=\"dataframe\">\n",
       "  <thead>\n",
       "    <tr style=\"text-align: right;\">\n",
       "      <th></th>\n",
       "      <th>letter</th>\n",
       "      <th>xbox</th>\n",
       "      <th>ybox</th>\n",
       "      <th>width</th>\n",
       "      <th>height</th>\n",
       "      <th>onpix</th>\n",
       "      <th>xbar</th>\n",
       "      <th>ybar</th>\n",
       "      <th>x2bar</th>\n",
       "      <th>y2bar</th>\n",
       "      <th>xybar</th>\n",
       "      <th>x2ybar</th>\n",
       "      <th>xy2bar</th>\n",
       "      <th>xedge</th>\n",
       "      <th>xedgey</th>\n",
       "      <th>yedge</th>\n",
       "      <th>yedgex</th>\n",
       "    </tr>\n",
       "  </thead>\n",
       "  <tbody>\n",
       "    <tr>\n",
       "      <th>0</th>\n",
       "      <td>T</td>\n",
       "      <td>2</td>\n",
       "      <td>8</td>\n",
       "      <td>3</td>\n",
       "      <td>5</td>\n",
       "      <td>1</td>\n",
       "      <td>8</td>\n",
       "      <td>13</td>\n",
       "      <td>0</td>\n",
       "      <td>6</td>\n",
       "      <td>6</td>\n",
       "      <td>10</td>\n",
       "      <td>8</td>\n",
       "      <td>0</td>\n",
       "      <td>8</td>\n",
       "      <td>0</td>\n",
       "      <td>8</td>\n",
       "    </tr>\n",
       "    <tr>\n",
       "      <th>1</th>\n",
       "      <td>I</td>\n",
       "      <td>5</td>\n",
       "      <td>12</td>\n",
       "      <td>3</td>\n",
       "      <td>7</td>\n",
       "      <td>2</td>\n",
       "      <td>10</td>\n",
       "      <td>5</td>\n",
       "      <td>5</td>\n",
       "      <td>4</td>\n",
       "      <td>13</td>\n",
       "      <td>3</td>\n",
       "      <td>9</td>\n",
       "      <td>2</td>\n",
       "      <td>8</td>\n",
       "      <td>4</td>\n",
       "      <td>10</td>\n",
       "    </tr>\n",
       "    <tr>\n",
       "      <th>2</th>\n",
       "      <td>D</td>\n",
       "      <td>4</td>\n",
       "      <td>11</td>\n",
       "      <td>6</td>\n",
       "      <td>8</td>\n",
       "      <td>6</td>\n",
       "      <td>10</td>\n",
       "      <td>6</td>\n",
       "      <td>2</td>\n",
       "      <td>6</td>\n",
       "      <td>10</td>\n",
       "      <td>3</td>\n",
       "      <td>7</td>\n",
       "      <td>3</td>\n",
       "      <td>7</td>\n",
       "      <td>3</td>\n",
       "      <td>9</td>\n",
       "    </tr>\n",
       "    <tr>\n",
       "      <th>3</th>\n",
       "      <td>N</td>\n",
       "      <td>7</td>\n",
       "      <td>11</td>\n",
       "      <td>6</td>\n",
       "      <td>6</td>\n",
       "      <td>3</td>\n",
       "      <td>5</td>\n",
       "      <td>9</td>\n",
       "      <td>4</td>\n",
       "      <td>6</td>\n",
       "      <td>4</td>\n",
       "      <td>4</td>\n",
       "      <td>10</td>\n",
       "      <td>6</td>\n",
       "      <td>10</td>\n",
       "      <td>2</td>\n",
       "      <td>8</td>\n",
       "    </tr>\n",
       "    <tr>\n",
       "      <th>4</th>\n",
       "      <td>G</td>\n",
       "      <td>2</td>\n",
       "      <td>1</td>\n",
       "      <td>3</td>\n",
       "      <td>1</td>\n",
       "      <td>1</td>\n",
       "      <td>8</td>\n",
       "      <td>6</td>\n",
       "      <td>6</td>\n",
       "      <td>6</td>\n",
       "      <td>6</td>\n",
       "      <td>5</td>\n",
       "      <td>9</td>\n",
       "      <td>1</td>\n",
       "      <td>7</td>\n",
       "      <td>5</td>\n",
       "      <td>10</td>\n",
       "    </tr>\n",
       "  </tbody>\n",
       "</table>\n",
       "</div>"
      ],
      "text/plain": [
       "  letter  xbox  ybox  width  height  onpix  xbar  ybar  x2bar  y2bar  xybar  \\\n",
       "0      T     2     8      3       5      1     8    13      0      6      6   \n",
       "1      I     5    12      3       7      2    10     5      5      4     13   \n",
       "2      D     4    11      6       8      6    10     6      2      6     10   \n",
       "3      N     7    11      6       6      3     5     9      4      6      4   \n",
       "4      G     2     1      3       1      1     8     6      6      6      6   \n",
       "\n",
       "   x2ybar  xy2bar  xedge  xedgey  yedge  yedgex  \n",
       "0      10       8      0       8      0       8  \n",
       "1       3       9      2       8      4      10  \n",
       "2       3       7      3       7      3       9  \n",
       "3       4      10      6      10      2       8  \n",
       "4       5       9      1       7      5      10  "
      ]
     },
     "execution_count": 3,
     "metadata": {},
     "output_type": "execute_result"
    }
   ],
   "source": [
    "df.head()"
   ]
  },
  {
   "cell_type": "code",
   "execution_count": 4,
   "id": "02d54082",
   "metadata": {},
   "outputs": [
    {
     "name": "stdout",
     "output_type": "stream",
     "text": [
      "Number of samples: 20000\n",
      "Number of features (excluding target): 16\n",
      "Number of classes: 26\n",
      "Sample class distribution:\n",
      " letter\n",
      "U    813\n",
      "D    805\n",
      "P    803\n",
      "T    796\n",
      "M    792\n",
      "Name: count, dtype: int64\n"
     ]
    }
   ],
   "source": [
    "num_samples,num_features=df.shape\n",
    "num_classes=df['letter'].nunique()\n",
    "class_distribution=df['letter'].value_counts()\n",
    "\n",
    "print(\"Number of samples:\",num_samples)\n",
    "print(\"Number of features (excluding target):\",num_features-1)\n",
    "print(\"Number of classes:\",num_classes)\n",
    "print(\"Sample class distribution:\\n\",class_distribution.head())"
   ]
  },
  {
   "cell_type": "code",
   "execution_count": 5,
   "id": "122328db",
   "metadata": {},
   "outputs": [
    {
     "name": "stdout",
     "output_type": "stream",
     "text": [
      "Missing values: 0\n"
     ]
    }
   ],
   "source": [
    "print(\"Missing values:\",df.isnull().sum().sum())"
   ]
  },
  {
   "cell_type": "code",
   "execution_count": 6,
   "id": "c0f668b3",
   "metadata": {},
   "outputs": [
    {
     "name": "stdout",
     "output_type": "stream",
     "text": [
      "Scaled data shape: (20000, 16)\n"
     ]
    }
   ],
   "source": [
    "X=df.drop(columns=['letter'])\n",
    "y=df['letter']\n",
    "scaler=MinMaxScaler()\n",
    "X_scaled=scaler.fit_transform(X)\n",
    "print(\"Scaled data shape:\",X_scaled.shape)"
   ]
  },
  {
   "cell_type": "code",
   "execution_count": 7,
   "id": "4760ab02",
   "metadata": {},
   "outputs": [],
   "source": [
    "encoder=LabelEncoder()\n",
    "y_encoded=encoder.fit_transform(y)"
   ]
  },
  {
   "cell_type": "code",
   "execution_count": 8,
   "id": "1be2875c",
   "metadata": {},
   "outputs": [],
   "source": [
    "# Train-test split\n",
    "X_train,X_test,y_train,y_test=train_test_split(X_scaled,y_encoded,test_size=0.2,random_state=42)"
   ]
  },
  {
   "cell_type": "code",
   "execution_count": 9,
   "id": "0567755e",
   "metadata": {},
   "outputs": [
    {
     "name": "stderr",
     "output_type": "stream",
     "text": [
      "c:\\Users\\Srees_lappy\\Desktop\\dscodes\\EXCELR\\venvex\\Lib\\site-packages\\keras\\src\\layers\\core\\dense.py:92: UserWarning: Do not pass an `input_shape`/`input_dim` argument to a layer. When using Sequential models, prefer using an `Input(shape)` object as the first layer in the model instead.\n",
      "  super().__init__(activity_regularizer=activity_regularizer, **kwargs)\n"
     ]
    }
   ],
   "source": [
    "#ANN model- before tuning\n",
    "model1=Sequential()\n",
    "model1.add(Dense(64,input_dim=X_train.shape[1],activation='relu'))\n",
    "model1.add(Dense(32,activation='relu'))\n",
    "model1.add(Dense(len(encoder.classes_),activation='softmax'))\n",
    "model1.compile(loss='sparse_categorical_crossentropy',optimizer='adam',metrics=['accuracy'])"
   ]
  },
  {
   "cell_type": "code",
   "execution_count": 10,
   "id": "484811c5",
   "metadata": {},
   "outputs": [
    {
     "name": "stdout",
     "output_type": "stream",
     "text": [
      "Epoch 1/20\n",
      "\u001b[1m400/400\u001b[0m \u001b[32m━━━━━━━━━━━━━━━━━━━━\u001b[0m\u001b[37m\u001b[0m \u001b[1m3s\u001b[0m 3ms/step - accuracy: 0.2335 - loss: 2.7710 - val_accuracy: 0.4109 - val_loss: 2.1321\n",
      "Epoch 2/20\n",
      "\u001b[1m400/400\u001b[0m \u001b[32m━━━━━━━━━━━━━━━━━━━━\u001b[0m\u001b[37m\u001b[0m \u001b[1m1s\u001b[0m 3ms/step - accuracy: 0.4894 - loss: 1.8151 - val_accuracy: 0.5206 - val_loss: 1.6526\n",
      "Epoch 3/20\n",
      "\u001b[1m400/400\u001b[0m \u001b[32m━━━━━━━━━━━━━━━━━━━━\u001b[0m\u001b[37m\u001b[0m \u001b[1m1s\u001b[0m 3ms/step - accuracy: 0.5759 - loss: 1.5022 - val_accuracy: 0.5975 - val_loss: 1.4256\n",
      "Epoch 4/20\n",
      "\u001b[1m400/400\u001b[0m \u001b[32m━━━━━━━━━━━━━━━━━━━━\u001b[0m\u001b[37m\u001b[0m \u001b[1m1s\u001b[0m 3ms/step - accuracy: 0.6209 - loss: 1.3441 - val_accuracy: 0.6416 - val_loss: 1.3197\n",
      "Epoch 5/20\n",
      "\u001b[1m400/400\u001b[0m \u001b[32m━━━━━━━━━━━━━━━━━━━━\u001b[0m\u001b[37m\u001b[0m \u001b[1m1s\u001b[0m 3ms/step - accuracy: 0.6504 - loss: 1.2387 - val_accuracy: 0.6584 - val_loss: 1.2311\n",
      "Epoch 6/20\n",
      "\u001b[1m400/400\u001b[0m \u001b[32m━━━━━━━━━━━━━━━━━━━━\u001b[0m\u001b[37m\u001b[0m \u001b[1m1s\u001b[0m 3ms/step - accuracy: 0.6745 - loss: 1.1653 - val_accuracy: 0.6816 - val_loss: 1.1557\n",
      "Epoch 7/20\n",
      "\u001b[1m400/400\u001b[0m \u001b[32m━━━━━━━━━━━━━━━━━━━━\u001b[0m\u001b[37m\u001b[0m \u001b[1m1s\u001b[0m 3ms/step - accuracy: 0.6952 - loss: 1.1033 - val_accuracy: 0.7094 - val_loss: 1.1015\n",
      "Epoch 8/20\n",
      "\u001b[1m400/400\u001b[0m \u001b[32m━━━━━━━━━━━━━━━━━━━━\u001b[0m\u001b[37m\u001b[0m \u001b[1m1s\u001b[0m 3ms/step - accuracy: 0.7077 - loss: 1.0539 - val_accuracy: 0.7191 - val_loss: 1.0663\n",
      "Epoch 9/20\n",
      "\u001b[1m400/400\u001b[0m \u001b[32m━━━━━━━━━━━━━━━━━━━━\u001b[0m\u001b[37m\u001b[0m \u001b[1m1s\u001b[0m 3ms/step - accuracy: 0.7231 - loss: 1.0154 - val_accuracy: 0.7172 - val_loss: 1.0293\n",
      "Epoch 10/20\n",
      "\u001b[1m400/400\u001b[0m \u001b[32m━━━━━━━━━━━━━━━━━━━━\u001b[0m\u001b[37m\u001b[0m \u001b[1m1s\u001b[0m 2ms/step - accuracy: 0.7334 - loss: 0.9820 - val_accuracy: 0.7309 - val_loss: 0.9957\n",
      "Epoch 11/20\n",
      "\u001b[1m400/400\u001b[0m \u001b[32m━━━━━━━━━━━━━━━━━━━━\u001b[0m\u001b[37m\u001b[0m \u001b[1m1s\u001b[0m 3ms/step - accuracy: 0.7425 - loss: 0.9502 - val_accuracy: 0.7381 - val_loss: 0.9748\n",
      "Epoch 12/20\n",
      "\u001b[1m400/400\u001b[0m \u001b[32m━━━━━━━━━━━━━━━━━━━━\u001b[0m\u001b[37m\u001b[0m \u001b[1m1s\u001b[0m 2ms/step - accuracy: 0.7507 - loss: 0.9217 - val_accuracy: 0.7522 - val_loss: 0.9359\n",
      "Epoch 13/20\n",
      "\u001b[1m400/400\u001b[0m \u001b[32m━━━━━━━━━━━━━━━━━━━━\u001b[0m\u001b[37m\u001b[0m \u001b[1m1s\u001b[0m 2ms/step - accuracy: 0.7566 - loss: 0.8981 - val_accuracy: 0.7506 - val_loss: 0.9154\n",
      "Epoch 14/20\n",
      "\u001b[1m400/400\u001b[0m \u001b[32m━━━━━━━━━━━━━━━━━━━━\u001b[0m\u001b[37m\u001b[0m \u001b[1m1s\u001b[0m 2ms/step - accuracy: 0.7569 - loss: 0.8771 - val_accuracy: 0.7531 - val_loss: 0.8968\n",
      "Epoch 15/20\n",
      "\u001b[1m400/400\u001b[0m \u001b[32m━━━━━━━━━━━━━━━━━━━━\u001b[0m\u001b[37m\u001b[0m \u001b[1m1s\u001b[0m 2ms/step - accuracy: 0.7652 - loss: 0.8550 - val_accuracy: 0.7656 - val_loss: 0.8769\n",
      "Epoch 16/20\n",
      "\u001b[1m400/400\u001b[0m \u001b[32m━━━━━━━━━━━━━━━━━━━━\u001b[0m\u001b[37m\u001b[0m \u001b[1m1s\u001b[0m 3ms/step - accuracy: 0.7673 - loss: 0.8387 - val_accuracy: 0.7563 - val_loss: 0.8760\n",
      "Epoch 17/20\n",
      "\u001b[1m400/400\u001b[0m \u001b[32m━━━━━━━━━━━━━━━━━━━━\u001b[0m\u001b[37m\u001b[0m \u001b[1m1s\u001b[0m 2ms/step - accuracy: 0.7727 - loss: 0.8231 - val_accuracy: 0.7659 - val_loss: 0.8490\n",
      "Epoch 18/20\n",
      "\u001b[1m400/400\u001b[0m \u001b[32m━━━━━━━━━━━━━━━━━━━━\u001b[0m\u001b[37m\u001b[0m \u001b[1m1s\u001b[0m 3ms/step - accuracy: 0.7759 - loss: 0.8044 - val_accuracy: 0.7678 - val_loss: 0.8482\n",
      "Epoch 19/20\n",
      "\u001b[1m400/400\u001b[0m \u001b[32m━━━━━━━━━━━━━━━━━━━━\u001b[0m\u001b[37m\u001b[0m \u001b[1m1s\u001b[0m 2ms/step - accuracy: 0.7802 - loss: 0.7880 - val_accuracy: 0.7716 - val_loss: 0.8270\n",
      "Epoch 20/20\n",
      "\u001b[1m400/400\u001b[0m \u001b[32m━━━━━━━━━━━━━━━━━━━━\u001b[0m\u001b[37m\u001b[0m \u001b[1m1s\u001b[0m 3ms/step - accuracy: 0.7848 - loss: 0.7743 - val_accuracy: 0.7706 - val_loss: 0.8076\n"
     ]
    }
   ],
   "source": [
    "#Train\n",
    "history=model1.fit(X_train,y_train,epochs=20,batch_size=32,validation_split=0.2,verbose=1)"
   ]
  },
  {
   "cell_type": "code",
   "execution_count": 11,
   "id": "846eaf50",
   "metadata": {},
   "outputs": [
    {
     "name": "stdout",
     "output_type": "stream",
     "text": [
      "Model1 (Default ANN) Test Accuracy: 0.7827500104904175\n"
     ]
    }
   ],
   "source": [
    "#Evaluate\n",
    "loss,acc=model1.evaluate(X_test,y_test,verbose=0)\n",
    "print(\"Model1 (Default ANN) Test Accuracy:\",acc)"
   ]
  },
  {
   "cell_type": "code",
   "execution_count": 12,
   "id": "a813ee34",
   "metadata": {},
   "outputs": [],
   "source": [
    "#Build model function for tuning\n",
    "def create_model(neurons=32,layers=1,activation='relu',lr=0.001):\n",
    "    model=Sequential()\n",
    "    model.add(Dense(neurons,input_dim=X_train.shape[1],activation=activation))\n",
    "    for _ in range(layers-1):\n",
    "        model.add(Dense(neurons,activation=activation))\n",
    "    model.add(Dense(len(encoder.classes_),activation='softmax'))\n",
    "    opt=Adam(learning_rate=lr)\n",
    "    model.compile(loss='sparse_categorical_crossentropy',optimizer=opt,metrics=['accuracy'])\n",
    "    return model"
   ]
  },
  {
   "cell_type": "code",
   "execution_count": 13,
   "id": "e6a0c9f9",
   "metadata": {},
   "outputs": [],
   "source": [
    "from scikeras.wrappers import KerasClassifier\n",
    "from sklearn.model_selection import RandomizedSearchCV"
   ]
  },
  {
   "cell_type": "code",
   "execution_count": null,
   "id": "97eaa71b",
   "metadata": {},
   "outputs": [],
   "source": [
    "#Wrap model for sklearn (Tuned ANN)\n",
    "tuned_model=KerasClassifier(model=create_model,verbose=0)\n",
    "\n",
    "#Hyperparameter space\n",
    "param_dist={\n",
    "    \"model__neurons\":[32,64,128],\n",
    "    \"model__layers\":[1,2,3],\n",
    "    \"model__activation\":['relu','tanh'],\n",
    "    \"model__lr\":[0.001,0.01],\n",
    "    \"epochs\":[10,20],\n",
    "    \"batch_size\":[32,64]\n",
    "}"
   ]
  },
  {
   "cell_type": "code",
   "execution_count": 15,
   "id": "02a9e97d",
   "metadata": {},
   "outputs": [
    {
     "name": "stdout",
     "output_type": "stream",
     "text": [
      "Fitting 3 folds for each of 5 candidates, totalling 15 fits\n"
     ]
    },
    {
     "name": "stderr",
     "output_type": "stream",
     "text": [
      "c:\\Users\\Srees_lappy\\Desktop\\dscodes\\EXCELR\\venvex\\Lib\\site-packages\\keras\\src\\layers\\core\\dense.py:92: UserWarning: Do not pass an `input_shape`/`input_dim` argument to a layer. When using Sequential models, prefer using an `Input(shape)` object as the first layer in the model instead.\n",
      "  super().__init__(activity_regularizer=activity_regularizer, **kwargs)\n"
     ]
    }
   ],
   "source": [
    "#Randomized search\n",
    "search=RandomizedSearchCV(estimator=tuned_model,param_distributions=param_dist,n_iter=5,cv=3,verbose=1,n_jobs=-1)\n",
    "search_result=search.fit(X_train,y_train)"
   ]
  },
  {
   "cell_type": "code",
   "execution_count": 16,
   "id": "f7a0f85a",
   "metadata": {},
   "outputs": [
    {
     "name": "stdout",
     "output_type": "stream",
     "text": [
      "Best Params: {'model__neurons': 64, 'model__lr': 0.01, 'model__layers': 2, 'model__activation': 'tanh', 'epochs': 10, 'batch_size': 64}\n",
      "Best CV Score: 0.8638764168167334\n"
     ]
    }
   ],
   "source": [
    "#Best results\n",
    "print(\"Best Params:\",search_result.best_params_)\n",
    "print(\"Best CV Score:\",search_result.best_score_)"
   ]
  },
  {
   "cell_type": "code",
   "execution_count": 17,
   "id": "992886e9",
   "metadata": {},
   "outputs": [
    {
     "name": "stdout",
     "output_type": "stream",
     "text": [
      "Test Accuracy with Best Params: 0.87075\n"
     ]
    }
   ],
   "source": [
    "#Evaluate on test set\n",
    "test_acc=search_result.score(X_test,y_test)\n",
    "print(\"Test Accuracy with Best Params:\",test_acc)"
   ]
  },
  {
   "cell_type": "code",
   "execution_count": 18,
   "id": "7e90762f",
   "metadata": {},
   "outputs": [
    {
     "name": "stdout",
     "output_type": "stream",
     "text": [
      "\u001b[1m125/125\u001b[0m \u001b[32m━━━━━━━━━━━━━━━━━━━━\u001b[0m\u001b[37m\u001b[0m \u001b[1m0s\u001b[0m 1ms/step\n"
     ]
    }
   ],
   "source": [
    "y_pred_default=model1.predict(X_test)"
   ]
  },
  {
   "cell_type": "code",
   "execution_count": null,
   "id": "900574e5",
   "metadata": {},
   "outputs": [],
   "source": [
    "y_pred_default=y_pred_default.argmax(axis=1)  # convert probabilities to class labels"
   ]
  },
  {
   "cell_type": "code",
   "execution_count": 20,
   "id": "ae8a5e25",
   "metadata": {},
   "outputs": [],
   "source": [
    "#Predictions with tuned model\n",
    "y_pred_tuned=search_result.predict(X_test)"
   ]
  },
  {
   "cell_type": "code",
   "execution_count": 21,
   "id": "7380facd",
   "metadata": {},
   "outputs": [
    {
     "name": "stdout",
     "output_type": "stream",
     "text": [
      "\n",
      "First Model Performance\n",
      "Accuracy: 0.78275\n",
      "Precision: 0.7846715974634135\n",
      "Recall: 0.7809263649714265\n",
      "F1-score: 0.7792361074046247\n"
     ]
    }
   ],
   "source": [
    "#Evaluation\n",
    "print(\"\\nFirst Model Performance\")\n",
    "print(\"Accuracy:\",accuracy_score(y_test,y_pred_default))\n",
    "print(\"Precision:\",precision_score(y_test,y_pred_default,average='macro'))\n",
    "print(\"Recall:\",recall_score(y_test,y_pred_default,average='macro'))\n",
    "print(\"F1-score:\",f1_score(y_test,y_pred_default,average='macro'))"
   ]
  },
  {
   "cell_type": "code",
   "execution_count": 22,
   "id": "6d1652bf",
   "metadata": {},
   "outputs": [
    {
     "name": "stdout",
     "output_type": "stream",
     "text": [
      "Tuned Model Performance\n",
      "Accuracy: 0.87075\n",
      "Precision: 0.8786099379421834\n",
      "Recall: 0.8712105607616886\n",
      "F1-score: 0.8699496714561913\n"
     ]
    }
   ],
   "source": [
    "print(\"Tuned Model Performance\")\n",
    "print(\"Accuracy:\",accuracy_score(y_test,y_pred_tuned))\n",
    "print(\"Precision:\",precision_score(y_test,y_pred_tuned,average='macro'))\n",
    "print(\"Recall:\",recall_score(y_test,y_pred_tuned,average='macro'))\n",
    "print(\"F1-score:\",f1_score(y_test,y_pred_tuned,average='macro'))"
   ]
  },
  {
   "cell_type": "code",
   "execution_count": 23,
   "id": "22fbe45e",
   "metadata": {},
   "outputs": [
    {
     "name": "stdout",
     "output_type": "stream",
     "text": [
      "Classification Report (Tuned Model):               precision    recall  f1-score   support\n",
      "\n",
      "           0       0.91      0.94      0.92       149\n",
      "           1       0.85      0.80      0.82       153\n",
      "           2       0.89      0.82      0.86       137\n",
      "           3       0.84      0.83      0.84       156\n",
      "           4       0.81      0.85      0.83       141\n",
      "           5       0.74      0.89      0.81       140\n",
      "           6       0.95      0.63      0.76       160\n",
      "           7       0.72      0.71      0.71       144\n",
      "           8       1.00      0.79      0.89       146\n",
      "           9       0.86      0.91      0.89       149\n",
      "          10       0.61      0.94      0.74       130\n",
      "          11       0.97      0.90      0.93       155\n",
      "          12       0.93      0.96      0.94       168\n",
      "          13       1.00      0.87      0.93       151\n",
      "          14       0.90      0.88      0.89       145\n",
      "          15       0.98      0.83      0.90       173\n",
      "          16       0.93      0.86      0.90       166\n",
      "          17       0.81      0.81      0.81       160\n",
      "          18       0.83      0.88      0.85       171\n",
      "          19       0.83      0.96      0.89       163\n",
      "          20       0.96      0.89      0.92       183\n",
      "          21       0.98      0.93      0.95       158\n",
      "          22       0.94      0.97      0.95       148\n",
      "          23       0.78      0.99      0.87       154\n",
      "          24       0.95      0.85      0.90       168\n",
      "          25       0.88      0.95      0.91       132\n",
      "\n",
      "    accuracy                           0.87      4000\n",
      "   macro avg       0.88      0.87      0.87      4000\n",
      "weighted avg       0.88      0.87      0.87      4000\n",
      "\n"
     ]
    }
   ],
   "source": [
    "print(\"Classification Report (Tuned Model):\",classification_report(y_test,y_pred_tuned))"
   ]
  },
  {
   "cell_type": "markdown",
   "id": "ce2d2174",
   "metadata": {},
   "source": [
    "#### Discussion\n",
    "\n",
    "* The baseline ANN (Model1) achieved reasonable accuracy, but its performance across precision, recall, and F1-score showed room for improvement. \n",
    "* After applying hyperparameter tuning with RandomizedSearchCV, the tuned ANN achieved higher accuracy and better balanced metrics, indicating improved generalization. \n",
    "* This improvement highlights the importance of hyperparameters such as the number of layers, neurons, activation functions, and learning rate in optimizing ANN performance.\n",
    "* Overall, hyperparameter tuning significantly enhanced the classification results compared to the default model."
   ]
  }
 ],
 "metadata": {
  "kernelspec": {
   "display_name": "Python 3",
   "language": "python",
   "name": "python3"
  },
  "language_info": {
   "codemirror_mode": {
    "name": "ipython",
    "version": 3
   },
   "file_extension": ".py",
   "mimetype": "text/x-python",
   "name": "python",
   "nbconvert_exporter": "python",
   "pygments_lexer": "ipython3",
   "version": "3.12.0"
  }
 },
 "nbformat": 4,
 "nbformat_minor": 5
}
